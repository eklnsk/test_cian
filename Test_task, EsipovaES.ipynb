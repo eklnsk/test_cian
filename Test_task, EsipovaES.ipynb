{
 "cells": [
  {
   "cell_type": "markdown",
   "id": "1fd7c11c",
   "metadata": {},
   "source": [
    "# Анализ рынка недвижимости"
   ]
  },
  {
   "cell_type": "markdown",
   "id": "52597b97",
   "metadata": {},
   "source": [
    "## Обзор данных"
   ]
  },
  {
   "cell_type": "code",
   "execution_count": 1,
   "id": "211badfb",
   "metadata": {},
   "outputs": [],
   "source": [
    "# импорт библиотек\n",
    "import pandas as pd\n",
    "import seaborn as sns\n",
    "from pylab import rcParams\n",
    "import plotly.express as px\n",
    "import plotly.io as pio\n",
    "from plotly import graph_objects as go\n",
    "from plotly.subplots import make_subplots"
   ]
  },
  {
   "cell_type": "code",
   "execution_count": 2,
   "id": "b0e0f95a",
   "metadata": {},
   "outputs": [],
   "source": [
    "# настройки для графиков\n",
    "%config InlineBackend.figure_format = 'retina'\n",
    "pio.renderers.default = 'svg'\n",
    "svg_renderer = pio.renderers['svg']\n",
    "svg_renderer.scale = 1.2\n",
    "colors = ['#fbb4ae', '#b3cde3', '#ccebc5', '#decbe4', '#fed9a6', '#ffffcc', '#e5d8bd', '#fddaec', '#f2f2f2', '#b3e2cd', '#fdcdac', '#cbd5e8', '#f4cae4', '#e6f5c9', '#fff2ae', '#f1e2cc', '#cccccc']"
   ]
  },
  {
   "cell_type": "code",
   "execution_count": 3,
   "id": "8dfd7431",
   "metadata": {},
   "outputs": [],
   "source": [
    "# открытие файлов\n",
    "data = pd.read_excel('test_task.xlsx', sheet_name='data')\n",
    "categories = pd.read_excel('test_task.xlsx', sheet_name='categories')"
   ]
  },
  {
   "cell_type": "code",
   "execution_count": 4,
   "id": "8a346988",
   "metadata": {
    "scrolled": false
   },
   "outputs": [
    {
     "name": "stdout",
     "output_type": "stream",
     "text": [
      "Первые 10 строк датафрейма\n"
     ]
    },
    {
     "data": {
      "text/html": [
       "<div>\n",
       "<style scoped>\n",
       "    .dataframe tbody tr th:only-of-type {\n",
       "        vertical-align: middle;\n",
       "    }\n",
       "\n",
       "    .dataframe tbody tr th {\n",
       "        vertical-align: top;\n",
       "    }\n",
       "\n",
       "    .dataframe thead th {\n",
       "        text-align: right;\n",
       "    }\n",
       "</style>\n",
       "<table border=\"1\" class=\"dataframe\">\n",
       "  <thead>\n",
       "    <tr style=\"text-align: right;\">\n",
       "      <th></th>\n",
       "      <th>Calculation1</th>\n",
       "      <th>Компания</th>\n",
       "      <th>Категория</th>\n",
       "      <th>Регион</th>\n",
       "      <th>Тип сделки</th>\n",
       "      <th>Категория недвижимости</th>\n",
       "      <th>Рубрика</th>\n",
       "      <th>Неделя</th>\n",
       "      <th>Контент</th>\n",
       "    </tr>\n",
       "  </thead>\n",
       "  <tbody>\n",
       "    <tr>\n",
       "      <th>0</th>\n",
       "      <td>1</td>\n",
       "      <td>Игрок 1</td>\n",
       "      <td>Большое агенство (201-1000)</td>\n",
       "      <td>Челябинск</td>\n",
       "      <td>Аренда</td>\n",
       "      <td>Городская</td>\n",
       "      <td>Долгосрочная</td>\n",
       "      <td>С 2018-01-01 до 2018-01-07</td>\n",
       "      <td>69</td>\n",
       "    </tr>\n",
       "    <tr>\n",
       "      <th>1</th>\n",
       "      <td>2</td>\n",
       "      <td>Игрок 1</td>\n",
       "      <td>Большое агенство (201-1000)</td>\n",
       "      <td>Челябинск</td>\n",
       "      <td>Аренда</td>\n",
       "      <td>Городская</td>\n",
       "      <td>Долгосрочная</td>\n",
       "      <td>С 2018-01-08 до 2018-01-14</td>\n",
       "      <td>63</td>\n",
       "    </tr>\n",
       "    <tr>\n",
       "      <th>2</th>\n",
       "      <td>3</td>\n",
       "      <td>Игрок 1</td>\n",
       "      <td>Большое агенство (201-1000)</td>\n",
       "      <td>Челябинск</td>\n",
       "      <td>Аренда</td>\n",
       "      <td>Городская</td>\n",
       "      <td>Долгосрочная</td>\n",
       "      <td>С 2018-01-15 до 2018-01-21</td>\n",
       "      <td>81</td>\n",
       "    </tr>\n",
       "    <tr>\n",
       "      <th>3</th>\n",
       "      <td>4</td>\n",
       "      <td>Игрок 1</td>\n",
       "      <td>Большое агенство (201-1000)</td>\n",
       "      <td>Челябинск</td>\n",
       "      <td>Аренда</td>\n",
       "      <td>Городская</td>\n",
       "      <td>Долгосрочная</td>\n",
       "      <td>С 2018-01-22 до 2018-01-28</td>\n",
       "      <td>86</td>\n",
       "    </tr>\n",
       "    <tr>\n",
       "      <th>4</th>\n",
       "      <td>5</td>\n",
       "      <td>Игрок 1</td>\n",
       "      <td>Большое агенство (201-1000)</td>\n",
       "      <td>Челябинск</td>\n",
       "      <td>Аренда</td>\n",
       "      <td>Городская</td>\n",
       "      <td>Долгосрочная</td>\n",
       "      <td>С 2018-01-29 до 2018-02-04</td>\n",
       "      <td>86</td>\n",
       "    </tr>\n",
       "    <tr>\n",
       "      <th>5</th>\n",
       "      <td>6</td>\n",
       "      <td>Игрок 1</td>\n",
       "      <td>Большое агенство (201-1000)</td>\n",
       "      <td>Челябинск</td>\n",
       "      <td>Аренда</td>\n",
       "      <td>Городская</td>\n",
       "      <td>Долгосрочная</td>\n",
       "      <td>С 2018-02-05 до 2018-02-11</td>\n",
       "      <td>101</td>\n",
       "    </tr>\n",
       "    <tr>\n",
       "      <th>6</th>\n",
       "      <td>7</td>\n",
       "      <td>Игрок 1</td>\n",
       "      <td>Большое агенство (201-1000)</td>\n",
       "      <td>Челябинск</td>\n",
       "      <td>Аренда</td>\n",
       "      <td>Городская</td>\n",
       "      <td>Долгосрочная</td>\n",
       "      <td>С 2018-02-12 до 2018-02-18</td>\n",
       "      <td>102</td>\n",
       "    </tr>\n",
       "    <tr>\n",
       "      <th>7</th>\n",
       "      <td>8</td>\n",
       "      <td>Игрок 1</td>\n",
       "      <td>Большое агенство (201-1000)</td>\n",
       "      <td>Челябинск</td>\n",
       "      <td>Аренда</td>\n",
       "      <td>Городская</td>\n",
       "      <td>Долгосрочная</td>\n",
       "      <td>С 2018-02-19 до 2018-02-25</td>\n",
       "      <td>47</td>\n",
       "    </tr>\n",
       "    <tr>\n",
       "      <th>8</th>\n",
       "      <td>9</td>\n",
       "      <td>Игрок 1</td>\n",
       "      <td>Большое агенство (201-1000)</td>\n",
       "      <td>Челябинск</td>\n",
       "      <td>Аренда</td>\n",
       "      <td>Городская</td>\n",
       "      <td>Долгосрочная</td>\n",
       "      <td>С 2018-02-26 до 2018-03-04</td>\n",
       "      <td>106</td>\n",
       "    </tr>\n",
       "    <tr>\n",
       "      <th>9</th>\n",
       "      <td>10</td>\n",
       "      <td>Игрок 1</td>\n",
       "      <td>Большое агенство (201-1000)</td>\n",
       "      <td>Челябинск</td>\n",
       "      <td>Аренда</td>\n",
       "      <td>Городская</td>\n",
       "      <td>Долгосрочная</td>\n",
       "      <td>С 2018-03-05 до 2018-03-11</td>\n",
       "      <td>113</td>\n",
       "    </tr>\n",
       "  </tbody>\n",
       "</table>\n",
       "</div>"
      ],
      "text/plain": [
       "  Calculation1 Компания                    Категория     Регион Тип сделки  \\\n",
       "0            1  Игрок 1  Большое агенство (201-1000)  Челябинск     Аренда   \n",
       "1            2  Игрок 1  Большое агенство (201-1000)  Челябинск     Аренда   \n",
       "2            3  Игрок 1  Большое агенство (201-1000)  Челябинск     Аренда   \n",
       "3            4  Игрок 1  Большое агенство (201-1000)  Челябинск     Аренда   \n",
       "4            5  Игрок 1  Большое агенство (201-1000)  Челябинск     Аренда   \n",
       "5            6  Игрок 1  Большое агенство (201-1000)  Челябинск     Аренда   \n",
       "6            7  Игрок 1  Большое агенство (201-1000)  Челябинск     Аренда   \n",
       "7            8  Игрок 1  Большое агенство (201-1000)  Челябинск     Аренда   \n",
       "8            9  Игрок 1  Большое агенство (201-1000)  Челябинск     Аренда   \n",
       "9           10  Игрок 1  Большое агенство (201-1000)  Челябинск     Аренда   \n",
       "\n",
       "  Категория недвижимости       Рубрика                      Неделя  Контент  \n",
       "0              Городская  Долгосрочная  С 2018-01-01 до 2018-01-07       69  \n",
       "1              Городская  Долгосрочная  С 2018-01-08 до 2018-01-14       63  \n",
       "2              Городская  Долгосрочная  С 2018-01-15 до 2018-01-21       81  \n",
       "3              Городская  Долгосрочная  С 2018-01-22 до 2018-01-28       86  \n",
       "4              Городская  Долгосрочная  С 2018-01-29 до 2018-02-04       86  \n",
       "5              Городская  Долгосрочная  С 2018-02-05 до 2018-02-11      101  \n",
       "6              Городская  Долгосрочная  С 2018-02-12 до 2018-02-18      102  \n",
       "7              Городская  Долгосрочная  С 2018-02-19 до 2018-02-25       47  \n",
       "8              Городская  Долгосрочная  С 2018-02-26 до 2018-03-04      106  \n",
       "9              Городская  Долгосрочная  С 2018-03-05 до 2018-03-11      113  "
      ]
     },
     "metadata": {},
     "output_type": "display_data"
    },
    {
     "name": "stdout",
     "output_type": "stream",
     "text": [
      "Основная информация о датафрейме\n",
      "<class 'pandas.core.frame.DataFrame'>\n",
      "RangeIndex: 104412 entries, 0 to 104411\n",
      "Data columns (total 9 columns):\n",
      " #   Column                  Non-Null Count   Dtype \n",
      "---  ------                  --------------   ----- \n",
      " 0   Calculation1            104412 non-null  object\n",
      " 1   Компания                104412 non-null  object\n",
      " 2   Категория               104412 non-null  object\n",
      " 3   Регион                  104412 non-null  object\n",
      " 4   Тип сделки              104412 non-null  object\n",
      " 5   Категория недвижимости  104412 non-null  object\n",
      " 6   Рубрика                 104412 non-null  object\n",
      " 7   Неделя                  104412 non-null  object\n",
      " 8   Контент                 104412 non-null  int64 \n",
      "dtypes: int64(1), object(8)\n",
      "memory usage: 7.2+ MB\n"
     ]
    },
    {
     "data": {
      "text/plain": [
       "None"
      ]
     },
     "metadata": {},
     "output_type": "display_data"
    },
    {
     "name": "stdout",
     "output_type": "stream",
     "text": [
      "Первые 10 строк датафрейма\n"
     ]
    },
    {
     "data": {
      "text/html": [
       "<div>\n",
       "<style scoped>\n",
       "    .dataframe tbody tr th:only-of-type {\n",
       "        vertical-align: middle;\n",
       "    }\n",
       "\n",
       "    .dataframe tbody tr th {\n",
       "        vertical-align: top;\n",
       "    }\n",
       "\n",
       "    .dataframe thead th {\n",
       "        text-align: right;\n",
       "    }\n",
       "</style>\n",
       "<table border=\"1\" class=\"dataframe\">\n",
       "  <thead>\n",
       "    <tr style=\"text-align: right;\">\n",
       "      <th></th>\n",
       "      <th>Категория</th>\n",
       "      <th>Сегмент</th>\n",
       "    </tr>\n",
       "  </thead>\n",
       "  <tbody>\n",
       "    <tr>\n",
       "      <th>0</th>\n",
       "      <td>Большое агенство (201-1000)</td>\n",
       "      <td>АН</td>\n",
       "    </tr>\n",
       "    <tr>\n",
       "      <th>1</th>\n",
       "      <td>Крупное агенство (1000+)</td>\n",
       "      <td>АН</td>\n",
       "    </tr>\n",
       "    <tr>\n",
       "      <th>2</th>\n",
       "      <td>Крупный маклер (4-9)</td>\n",
       "      <td>SMB</td>\n",
       "    </tr>\n",
       "    <tr>\n",
       "      <th>3</th>\n",
       "      <td>Малое агенство (10-50)</td>\n",
       "      <td>SMB</td>\n",
       "    </tr>\n",
       "    <tr>\n",
       "      <th>4</th>\n",
       "      <td>Собственник (1)</td>\n",
       "      <td>Owner</td>\n",
       "    </tr>\n",
       "    <tr>\n",
       "      <th>5</th>\n",
       "      <td>Среднее агенство (51-200)</td>\n",
       "      <td>АН</td>\n",
       "    </tr>\n",
       "    <tr>\n",
       "      <th>6</th>\n",
       "      <td>Частный маклер (2-3)</td>\n",
       "      <td>SMB</td>\n",
       "    </tr>\n",
       "  </tbody>\n",
       "</table>\n",
       "</div>"
      ],
      "text/plain": [
       "                     Категория Сегмент\n",
       "0  Большое агенство (201-1000)      АН\n",
       "1     Крупное агенство (1000+)      АН\n",
       "2         Крупный маклер (4-9)     SMB\n",
       "3       Малое агенство (10-50)     SMB\n",
       "4              Собственник (1)   Owner\n",
       "5    Среднее агенство (51-200)      АН\n",
       "6         Частный маклер (2-3)     SMB"
      ]
     },
     "metadata": {},
     "output_type": "display_data"
    },
    {
     "name": "stdout",
     "output_type": "stream",
     "text": [
      "Основная информация о датафрейме\n",
      "<class 'pandas.core.frame.DataFrame'>\n",
      "RangeIndex: 7 entries, 0 to 6\n",
      "Data columns (total 2 columns):\n",
      " #   Column     Non-Null Count  Dtype \n",
      "---  ------     --------------  ----- \n",
      " 0   Категория  7 non-null      object\n",
      " 1   Сегмент    7 non-null      object\n",
      "dtypes: object(2)\n",
      "memory usage: 240.0+ bytes\n"
     ]
    },
    {
     "data": {
      "text/plain": [
       "None"
      ]
     },
     "metadata": {},
     "output_type": "display_data"
    }
   ],
   "source": [
    "# вывод основной информации о датафреймах\n",
    "dfs = [data, categories]\n",
    "\n",
    "def df_info(data: pd.DataFrame):\n",
    "    print('Первые 10 строк датафрейма')\n",
    "    display(data.head(10))\n",
    "    print('Основная информация о датафрейме')\n",
    "    display(data.info())\n",
    "\n",
    "for df in dfs:\n",
    "    df_info(df)"
   ]
  },
  {
   "cell_type": "markdown",
   "id": "4cc3b8fd",
   "metadata": {},
   "source": [
    "Итак, в доступе 2 датасета: количество контента с разбивкой по компаниям, категориям, регионам, типам сделки, категориям недвижимости, рубрикам, неделям и соответствие сегментов категориям."
   ]
  },
  {
   "cell_type": "markdown",
   "id": "523a5b70",
   "metadata": {},
   "source": [
    "## Предобработка данных"
   ]
  },
  {
   "cell_type": "markdown",
   "id": "aae4d1ff",
   "metadata": {},
   "source": [
    "Типы данных в столбцах определены корректно, однако, обнаружен лишний столбец с индексом, удалим его из датафрейма."
   ]
  },
  {
   "cell_type": "code",
   "execution_count": 5,
   "id": "66306969",
   "metadata": {},
   "outputs": [],
   "source": [
    "# удаление из датасета лишнего столбца\n",
    "data = data.drop('Calculation1', axis=1)"
   ]
  },
  {
   "cell_type": "markdown",
   "id": "79b6681b",
   "metadata": {},
   "source": [
    "Также, для удобства работы подгрузим сегменты из второго датасета в основную таблицу."
   ]
  },
  {
   "cell_type": "code",
   "execution_count": 6,
   "id": "9d51ec05",
   "metadata": {},
   "outputs": [],
   "source": [
    "# объединение датафреймов\n",
    "data = data.merge(categories, how='left', on='Категория')"
   ]
  },
  {
   "cell_type": "markdown",
   "id": "7e20f3f6",
   "metadata": {},
   "source": [
    "Проверим измененный датасет."
   ]
  },
  {
   "cell_type": "code",
   "execution_count": 7,
   "id": "d5d92cef",
   "metadata": {},
   "outputs": [
    {
     "data": {
      "text/html": [
       "<div>\n",
       "<style scoped>\n",
       "    .dataframe tbody tr th:only-of-type {\n",
       "        vertical-align: middle;\n",
       "    }\n",
       "\n",
       "    .dataframe tbody tr th {\n",
       "        vertical-align: top;\n",
       "    }\n",
       "\n",
       "    .dataframe thead th {\n",
       "        text-align: right;\n",
       "    }\n",
       "</style>\n",
       "<table border=\"1\" class=\"dataframe\">\n",
       "  <thead>\n",
       "    <tr style=\"text-align: right;\">\n",
       "      <th></th>\n",
       "      <th>Компания</th>\n",
       "      <th>Категория</th>\n",
       "      <th>Регион</th>\n",
       "      <th>Тип сделки</th>\n",
       "      <th>Категория недвижимости</th>\n",
       "      <th>Рубрика</th>\n",
       "      <th>Неделя</th>\n",
       "      <th>Контент</th>\n",
       "      <th>Сегмент</th>\n",
       "    </tr>\n",
       "  </thead>\n",
       "  <tbody>\n",
       "    <tr>\n",
       "      <th>0</th>\n",
       "      <td>Игрок 1</td>\n",
       "      <td>Большое агенство (201-1000)</td>\n",
       "      <td>Челябинск</td>\n",
       "      <td>Аренда</td>\n",
       "      <td>Городская</td>\n",
       "      <td>Долгосрочная</td>\n",
       "      <td>С 2018-01-01 до 2018-01-07</td>\n",
       "      <td>69</td>\n",
       "      <td>АН</td>\n",
       "    </tr>\n",
       "    <tr>\n",
       "      <th>1</th>\n",
       "      <td>Игрок 1</td>\n",
       "      <td>Большое агенство (201-1000)</td>\n",
       "      <td>Челябинск</td>\n",
       "      <td>Аренда</td>\n",
       "      <td>Городская</td>\n",
       "      <td>Долгосрочная</td>\n",
       "      <td>С 2018-01-08 до 2018-01-14</td>\n",
       "      <td>63</td>\n",
       "      <td>АН</td>\n",
       "    </tr>\n",
       "    <tr>\n",
       "      <th>2</th>\n",
       "      <td>Игрок 1</td>\n",
       "      <td>Большое агенство (201-1000)</td>\n",
       "      <td>Челябинск</td>\n",
       "      <td>Аренда</td>\n",
       "      <td>Городская</td>\n",
       "      <td>Долгосрочная</td>\n",
       "      <td>С 2018-01-15 до 2018-01-21</td>\n",
       "      <td>81</td>\n",
       "      <td>АН</td>\n",
       "    </tr>\n",
       "    <tr>\n",
       "      <th>3</th>\n",
       "      <td>Игрок 1</td>\n",
       "      <td>Большое агенство (201-1000)</td>\n",
       "      <td>Челябинск</td>\n",
       "      <td>Аренда</td>\n",
       "      <td>Городская</td>\n",
       "      <td>Долгосрочная</td>\n",
       "      <td>С 2018-01-22 до 2018-01-28</td>\n",
       "      <td>86</td>\n",
       "      <td>АН</td>\n",
       "    </tr>\n",
       "    <tr>\n",
       "      <th>4</th>\n",
       "      <td>Игрок 1</td>\n",
       "      <td>Большое агенство (201-1000)</td>\n",
       "      <td>Челябинск</td>\n",
       "      <td>Аренда</td>\n",
       "      <td>Городская</td>\n",
       "      <td>Долгосрочная</td>\n",
       "      <td>С 2018-01-29 до 2018-02-04</td>\n",
       "      <td>86</td>\n",
       "      <td>АН</td>\n",
       "    </tr>\n",
       "    <tr>\n",
       "      <th>...</th>\n",
       "      <td>...</td>\n",
       "      <td>...</td>\n",
       "      <td>...</td>\n",
       "      <td>...</td>\n",
       "      <td>...</td>\n",
       "      <td>...</td>\n",
       "      <td>...</td>\n",
       "      <td>...</td>\n",
       "      <td>...</td>\n",
       "    </tr>\n",
       "    <tr>\n",
       "      <th>104407</th>\n",
       "      <td>Игрок 2</td>\n",
       "      <td>Частный маклер (2-3)</td>\n",
       "      <td>Воронеж</td>\n",
       "      <td>Продажа</td>\n",
       "      <td>Загородная</td>\n",
       "      <td>Вторичка</td>\n",
       "      <td>С 2019-10-21 до 2019-10-27</td>\n",
       "      <td>283</td>\n",
       "      <td>SMB</td>\n",
       "    </tr>\n",
       "    <tr>\n",
       "      <th>104408</th>\n",
       "      <td>Игрок 2</td>\n",
       "      <td>Частный маклер (2-3)</td>\n",
       "      <td>Воронеж</td>\n",
       "      <td>Продажа</td>\n",
       "      <td>Загородная</td>\n",
       "      <td>Вторичка</td>\n",
       "      <td>С 2019-10-28 до 2019-11-03</td>\n",
       "      <td>282</td>\n",
       "      <td>SMB</td>\n",
       "    </tr>\n",
       "    <tr>\n",
       "      <th>104409</th>\n",
       "      <td>Игрок 2</td>\n",
       "      <td>Частный маклер (2-3)</td>\n",
       "      <td>Воронеж</td>\n",
       "      <td>Продажа</td>\n",
       "      <td>Загородная</td>\n",
       "      <td>Вторичка</td>\n",
       "      <td>С 2019-11-04 до 2019-11-10</td>\n",
       "      <td>279</td>\n",
       "      <td>SMB</td>\n",
       "    </tr>\n",
       "    <tr>\n",
       "      <th>104410</th>\n",
       "      <td>Игрок 2</td>\n",
       "      <td>Частный маклер (2-3)</td>\n",
       "      <td>Воронеж</td>\n",
       "      <td>Продажа</td>\n",
       "      <td>Загородная</td>\n",
       "      <td>Вторичка</td>\n",
       "      <td>С 2019-11-11 до 2019-11-17</td>\n",
       "      <td>284</td>\n",
       "      <td>SMB</td>\n",
       "    </tr>\n",
       "    <tr>\n",
       "      <th>104411</th>\n",
       "      <td>Игрок 2</td>\n",
       "      <td>Частный маклер (2-3)</td>\n",
       "      <td>Воронеж</td>\n",
       "      <td>Продажа</td>\n",
       "      <td>Загородная</td>\n",
       "      <td>Вторичка</td>\n",
       "      <td>С 2019-11-18 до 2019-11-24</td>\n",
       "      <td>287</td>\n",
       "      <td>SMB</td>\n",
       "    </tr>\n",
       "  </tbody>\n",
       "</table>\n",
       "<p>104412 rows × 9 columns</p>\n",
       "</div>"
      ],
      "text/plain": [
       "       Компания                    Категория     Регион Тип сделки  \\\n",
       "0       Игрок 1  Большое агенство (201-1000)  Челябинск     Аренда   \n",
       "1       Игрок 1  Большое агенство (201-1000)  Челябинск     Аренда   \n",
       "2       Игрок 1  Большое агенство (201-1000)  Челябинск     Аренда   \n",
       "3       Игрок 1  Большое агенство (201-1000)  Челябинск     Аренда   \n",
       "4       Игрок 1  Большое агенство (201-1000)  Челябинск     Аренда   \n",
       "...         ...                          ...        ...        ...   \n",
       "104407  Игрок 2         Частный маклер (2-3)    Воронеж    Продажа   \n",
       "104408  Игрок 2         Частный маклер (2-3)    Воронеж    Продажа   \n",
       "104409  Игрок 2         Частный маклер (2-3)    Воронеж    Продажа   \n",
       "104410  Игрок 2         Частный маклер (2-3)    Воронеж    Продажа   \n",
       "104411  Игрок 2         Частный маклер (2-3)    Воронеж    Продажа   \n",
       "\n",
       "       Категория недвижимости       Рубрика                      Неделя  \\\n",
       "0                   Городская  Долгосрочная  С 2018-01-01 до 2018-01-07   \n",
       "1                   Городская  Долгосрочная  С 2018-01-08 до 2018-01-14   \n",
       "2                   Городская  Долгосрочная  С 2018-01-15 до 2018-01-21   \n",
       "3                   Городская  Долгосрочная  С 2018-01-22 до 2018-01-28   \n",
       "4                   Городская  Долгосрочная  С 2018-01-29 до 2018-02-04   \n",
       "...                       ...           ...                         ...   \n",
       "104407             Загородная      Вторичка  С 2019-10-21 до 2019-10-27   \n",
       "104408             Загородная      Вторичка  С 2019-10-28 до 2019-11-03   \n",
       "104409             Загородная      Вторичка  С 2019-11-04 до 2019-11-10   \n",
       "104410             Загородная      Вторичка  С 2019-11-11 до 2019-11-17   \n",
       "104411             Загородная      Вторичка  С 2019-11-18 до 2019-11-24   \n",
       "\n",
       "        Контент Сегмент  \n",
       "0            69      АН  \n",
       "1            63      АН  \n",
       "2            81      АН  \n",
       "3            86      АН  \n",
       "4            86      АН  \n",
       "...         ...     ...  \n",
       "104407      283     SMB  \n",
       "104408      282     SMB  \n",
       "104409      279     SMB  \n",
       "104410      284     SMB  \n",
       "104411      287     SMB  \n",
       "\n",
       "[104412 rows x 9 columns]"
      ]
     },
     "execution_count": 7,
     "metadata": {},
     "output_type": "execute_result"
    }
   ],
   "source": [
    "data"
   ]
  },
  {
   "cell_type": "markdown",
   "id": "d53debc8",
   "metadata": {},
   "source": [
    "## Исследовательский анализ данных"
   ]
  },
  {
   "cell_type": "markdown",
   "id": "e9e3b5af",
   "metadata": {},
   "source": [
    "### Анализ по регионам"
   ]
  },
  {
   "cell_type": "markdown",
   "id": "3cb560d9",
   "metadata": {},
   "source": [
    "Посмотрим на распределение контента по регионам."
   ]
  },
  {
   "cell_type": "code",
   "execution_count": 8,
   "id": "2c97488a",
   "metadata": {},
   "outputs": [
    {
     "data": {
      "image/svg+xml": [
       "<svg class=\"main-svg\" xmlns=\"http://www.w3.org/2000/svg\" xmlns:xlink=\"http://www.w3.org/1999/xlink\" width=\"840\" height=\"600\" style=\"\" viewBox=\"0 0 700 500\"><rect x=\"0\" y=\"0\" width=\"700\" height=\"500\" style=\"fill: rgb(255, 255, 255); fill-opacity: 1;\"/><defs id=\"defs-5737d5\"><g class=\"clips\"><clipPath id=\"clip5737d5xyplot\" class=\"plotclip\"><rect width=\"504\" height=\"332\"/></clipPath><clipPath class=\"axesclip\" id=\"clip5737d5x\"><rect x=\"80\" y=\"0\" width=\"504\" height=\"500\"/></clipPath><clipPath class=\"axesclip\" id=\"clip5737d5y\"><rect x=\"0\" y=\"60\" width=\"700\" height=\"332\"/></clipPath><clipPath class=\"axesclip\" id=\"clip5737d5xy\"><rect x=\"80\" y=\"60\" width=\"504\" height=\"332\"/></clipPath></g><g class=\"gradients\"/><g class=\"patterns\"/></defs><g class=\"bglayer\"><rect class=\"bg\" x=\"80\" y=\"60\" width=\"504\" height=\"332\" style=\"fill: rgb(229, 236, 246); fill-opacity: 1; stroke-width: 0;\"/></g><g class=\"layer-below\"><g class=\"imagelayer\"/><g class=\"shapelayer\"/></g><g class=\"cartesianlayer\"><g class=\"subplot xy\"><g class=\"layer-subplot\"><g class=\"shapelayer\"/><g class=\"imagelayer\"/></g><g class=\"minor-gridlayer\"><g class=\"x\"/><g class=\"y\"/></g><g class=\"gridlayer\"><g class=\"x\"/><g class=\"y\"><path class=\"ygrid crisp\" transform=\"translate(0,338.84)\" d=\"M80,0h504\" style=\"stroke: rgb(255, 255, 255); stroke-opacity: 1; stroke-width: 1px;\"/><path class=\"ygrid crisp\" transform=\"translate(0,285.68)\" d=\"M80,0h504\" style=\"stroke: rgb(255, 255, 255); stroke-opacity: 1; stroke-width: 1px;\"/><path class=\"ygrid crisp\" transform=\"translate(0,232.53)\" d=\"M80,0h504\" style=\"stroke: rgb(255, 255, 255); stroke-opacity: 1; stroke-width: 1px;\"/><path class=\"ygrid crisp\" transform=\"translate(0,179.37)\" d=\"M80,0h504\" style=\"stroke: rgb(255, 255, 255); stroke-opacity: 1; stroke-width: 1px;\"/><path class=\"ygrid crisp\" transform=\"translate(0,126.21)\" d=\"M80,0h504\" style=\"stroke: rgb(255, 255, 255); stroke-opacity: 1; stroke-width: 1px;\"/><path class=\"ygrid crisp\" transform=\"translate(0,73.05)\" d=\"M80,0h504\" style=\"stroke: rgb(255, 255, 255); stroke-opacity: 1; stroke-width: 1px;\"/></g></g><g class=\"zerolinelayer\"><path class=\"yzl zl crisp\" transform=\"translate(0,392)\" d=\"M80,0h504\" style=\"stroke: rgb(255, 255, 255); stroke-opacity: 1; stroke-width: 2px;\"/></g><path class=\"xlines-below\"/><path class=\"ylines-below\"/><g class=\"overlines-below\"/><g class=\"xaxislayer-below\"/><g class=\"yaxislayer-below\"/><g class=\"overaxes-below\"/><g class=\"plot\" transform=\"translate(80,60)\" clip-path=\"url(#clip5737d5xyplot)\"><g class=\"barlayer mlayer\"><g class=\"trace bars\" style=\"opacity: 1;\"><g class=\"points\"><g class=\"point\"><path d=\"M3.15,332V16.6H15.75V332Z\" style=\"vector-effect: non-scaling-stroke; opacity: 1; stroke-width: 0.5px; fill: rgb(251, 180, 174); fill-opacity: 1; stroke: rgb(229, 236, 246); stroke-opacity: 1;\"/></g><g class=\"point\"><path d=\"M34.65,332V150.2H47.25V332Z\" style=\"vector-effect: non-scaling-stroke; opacity: 1; stroke-width: 0.5px; fill: rgb(251, 180, 174); fill-opacity: 1; stroke: rgb(229, 236, 246); stroke-opacity: 1;\"/></g><g class=\"point\"><path d=\"M66.15,332V218.68H78.75V332Z\" style=\"vector-effect: non-scaling-stroke; opacity: 1; stroke-width: 0.5px; fill: rgb(251, 180, 174); fill-opacity: 1; stroke: rgb(229, 236, 246); stroke-opacity: 1;\"/></g><g class=\"point\"><path d=\"M97.65,332V231.93H110.25V332Z\" style=\"vector-effect: non-scaling-stroke; opacity: 1; stroke-width: 0.5px; fill: rgb(251, 180, 174); fill-opacity: 1; stroke: rgb(229, 236, 246); stroke-opacity: 1;\"/></g><g class=\"point\"><path d=\"M129.15,332V237.34H141.75V332Z\" style=\"vector-effect: non-scaling-stroke; opacity: 1; stroke-width: 0.5px; fill: rgb(251, 180, 174); fill-opacity: 1; stroke: rgb(229, 236, 246); stroke-opacity: 1;\"/></g><g class=\"point\"><path d=\"M160.65,332V245.21H173.25V332Z\" style=\"vector-effect: non-scaling-stroke; opacity: 1; stroke-width: 0.5px; fill: rgb(251, 180, 174); fill-opacity: 1; stroke: rgb(229, 236, 246); stroke-opacity: 1;\"/></g><g class=\"point\"><path d=\"M192.15,332V246.39H204.75V332Z\" style=\"vector-effect: non-scaling-stroke; opacity: 1; stroke-width: 0.5px; fill: rgb(251, 180, 174); fill-opacity: 1; stroke: rgb(229, 236, 246); stroke-opacity: 1;\"/></g><g class=\"point\"><path d=\"M223.65,332V275.61H236.25V332Z\" style=\"vector-effect: non-scaling-stroke; opacity: 1; stroke-width: 0.5px; fill: rgb(251, 180, 174); fill-opacity: 1; stroke: rgb(229, 236, 246); stroke-opacity: 1;\"/></g><g class=\"point\"><path d=\"M255.15,332V278.06H267.75V332Z\" style=\"vector-effect: non-scaling-stroke; opacity: 1; stroke-width: 0.5px; fill: rgb(251, 180, 174); fill-opacity: 1; stroke: rgb(229, 236, 246); stroke-opacity: 1;\"/></g><g class=\"point\"><path d=\"M286.65,332V283.73H299.25V332Z\" style=\"vector-effect: non-scaling-stroke; opacity: 1; stroke-width: 0.5px; fill: rgb(251, 180, 174); fill-opacity: 1; stroke: rgb(229, 236, 246); stroke-opacity: 1;\"/></g><g class=\"point\"><path d=\"M318.15,332V285.07H330.75V332Z\" style=\"vector-effect: non-scaling-stroke; opacity: 1; stroke-width: 0.5px; fill: rgb(251, 180, 174); fill-opacity: 1; stroke: rgb(229, 236, 246); stroke-opacity: 1;\"/></g><g class=\"point\"><path d=\"M349.65,332V290.65H362.25V332Z\" style=\"vector-effect: non-scaling-stroke; opacity: 1; stroke-width: 0.5px; fill: rgb(251, 180, 174); fill-opacity: 1; stroke: rgb(229, 236, 246); stroke-opacity: 1;\"/></g><g class=\"point\"><path d=\"M381.15,332V290.74H393.75V332Z\" style=\"vector-effect: non-scaling-stroke; opacity: 1; stroke-width: 0.5px; fill: rgb(251, 180, 174); fill-opacity: 1; stroke: rgb(229, 236, 246); stroke-opacity: 1;\"/></g><g class=\"point\"><path d=\"M412.65,332V290.79H425.25V332Z\" style=\"vector-effect: non-scaling-stroke; opacity: 1; stroke-width: 0.5px; fill: rgb(251, 180, 174); fill-opacity: 1; stroke: rgb(229, 236, 246); stroke-opacity: 1;\"/></g><g class=\"point\"><path d=\"M444.15,332V291.91H456.75V332Z\" style=\"vector-effect: non-scaling-stroke; opacity: 1; stroke-width: 0.5px; fill: rgb(251, 180, 174); fill-opacity: 1; stroke: rgb(229, 236, 246); stroke-opacity: 1;\"/></g><g class=\"point\"><path d=\"M475.65,332V299.23H488.25V332Z\" style=\"vector-effect: non-scaling-stroke; opacity: 1; stroke-width: 0.5px; fill: rgb(251, 180, 174); fill-opacity: 1; stroke: rgb(229, 236, 246); stroke-opacity: 1;\"/></g></g></g><g class=\"trace bars\" style=\"opacity: 1;\"><g class=\"points\"><g class=\"point\"><path d=\"M15.75,332V157.7H28.35V332Z\" style=\"vector-effect: non-scaling-stroke; opacity: 1; stroke-width: 0.5px; fill: rgb(179, 205, 227); fill-opacity: 1; stroke: rgb(229, 236, 246); stroke-opacity: 1;\"/></g><g class=\"point\"><path d=\"M78.75,332V164.43H91.35V332Z\" style=\"vector-effect: non-scaling-stroke; opacity: 1; stroke-width: 0.5px; fill: rgb(179, 205, 227); fill-opacity: 1; stroke: rgb(229, 236, 246); stroke-opacity: 1;\"/></g><g class=\"point\"><path d=\"M47.25,332V167.62H59.85V332Z\" style=\"vector-effect: non-scaling-stroke; opacity: 1; stroke-width: 0.5px; fill: rgb(179, 205, 227); fill-opacity: 1; stroke: rgb(229, 236, 246); stroke-opacity: 1;\"/></g><g class=\"point\"><path d=\"M204.75,332V213.57H217.35V332Z\" style=\"vector-effect: non-scaling-stroke; opacity: 1; stroke-width: 0.5px; fill: rgb(179, 205, 227); fill-opacity: 1; stroke: rgb(229, 236, 246); stroke-opacity: 1;\"/></g><g class=\"point\"><path d=\"M141.75,332V231.57H154.35V332Z\" style=\"vector-effect: non-scaling-stroke; opacity: 1; stroke-width: 0.5px; fill: rgb(179, 205, 227); fill-opacity: 1; stroke: rgb(229, 236, 246); stroke-opacity: 1;\"/></g><g class=\"point\"><path d=\"M299.25,332V232.35H311.85V332Z\" style=\"vector-effect: non-scaling-stroke; opacity: 1; stroke-width: 0.5px; fill: rgb(179, 205, 227); fill-opacity: 1; stroke: rgb(229, 236, 246); stroke-opacity: 1;\"/></g><g class=\"point\"><path d=\"M330.75,332V252.39H343.35V332Z\" style=\"vector-effect: non-scaling-stroke; opacity: 1; stroke-width: 0.5px; fill: rgb(179, 205, 227); fill-opacity: 1; stroke: rgb(229, 236, 246); stroke-opacity: 1;\"/></g><g class=\"point\"><path d=\"M267.75,332V254.23H280.35V332Z\" style=\"vector-effect: non-scaling-stroke; opacity: 1; stroke-width: 0.5px; fill: rgb(179, 205, 227); fill-opacity: 1; stroke: rgb(229, 236, 246); stroke-opacity: 1;\"/></g><g class=\"point\"><path d=\"M488.25,332V265.48H500.85V332Z\" style=\"vector-effect: non-scaling-stroke; opacity: 1; stroke-width: 0.5px; fill: rgb(179, 205, 227); fill-opacity: 1; stroke: rgb(229, 236, 246); stroke-opacity: 1;\"/></g><g class=\"point\"><path d=\"M456.75,332V269.15H469.35V332Z\" style=\"vector-effect: non-scaling-stroke; opacity: 1; stroke-width: 0.5px; fill: rgb(179, 205, 227); fill-opacity: 1; stroke: rgb(229, 236, 246); stroke-opacity: 1;\"/></g><g class=\"point\"><path d=\"M110.25,332V271.83H122.85V332Z\" style=\"vector-effect: non-scaling-stroke; opacity: 1; stroke-width: 0.5px; fill: rgb(179, 205, 227); fill-opacity: 1; stroke: rgb(229, 236, 246); stroke-opacity: 1;\"/></g><g class=\"point\"><path d=\"M393.75,332V273.16H406.35V332Z\" style=\"vector-effect: non-scaling-stroke; opacity: 1; stroke-width: 0.5px; fill: rgb(179, 205, 227); fill-opacity: 1; stroke: rgb(229, 236, 246); stroke-opacity: 1;\"/></g><g class=\"point\"><path d=\"M362.25,332V283.28H374.85V332Z\" style=\"vector-effect: non-scaling-stroke; opacity: 1; stroke-width: 0.5px; fill: rgb(179, 205, 227); fill-opacity: 1; stroke: rgb(229, 236, 246); stroke-opacity: 1;\"/></g><g class=\"point\"><path d=\"M236.25,332V283.36H248.85V332Z\" style=\"vector-effect: non-scaling-stroke; opacity: 1; stroke-width: 0.5px; fill: rgb(179, 205, 227); fill-opacity: 1; stroke: rgb(229, 236, 246); stroke-opacity: 1;\"/></g><g class=\"point\"><path d=\"M173.25,332V285.22H185.85V332Z\" style=\"vector-effect: non-scaling-stroke; opacity: 1; stroke-width: 0.5px; fill: rgb(179, 205, 227); fill-opacity: 1; stroke: rgb(229, 236, 246); stroke-opacity: 1;\"/></g></g></g></g></g><g class=\"overplot\"/><path class=\"xlines-above crisp\" d=\"M0,0\" style=\"fill: none;\"/><path class=\"ylines-above crisp\" d=\"M0,0\" style=\"fill: none;\"/><g class=\"overlines-above\"/><g class=\"xaxislayer-above\"><g class=\"xtick\"><text text-anchor=\"start\" x=\"0\" y=\"405\" transform=\"translate(95.75,0) rotate(30,0,399)\" style=\"font-family: 'Open Sans', verdana, arial, sans-serif; font-size: 12px; fill: rgb(42, 63, 95); fill-opacity: 1; white-space: pre; opacity: 1;\">Санкт-Петербург</text></g><g class=\"xtick\"><text text-anchor=\"start\" x=\"0\" y=\"405\" transform=\"translate(127.25,0) rotate(30,0,399)\" style=\"font-family: 'Open Sans', verdana, arial, sans-serif; font-size: 12px; fill: rgb(42, 63, 95); fill-opacity: 1; white-space: pre; opacity: 1;\">Москва</text></g><g class=\"xtick\"><text text-anchor=\"start\" x=\"0\" y=\"405\" transform=\"translate(158.75,0) rotate(30,0,399)\" style=\"font-family: 'Open Sans', verdana, arial, sans-serif; font-size: 12px; fill: rgb(42, 63, 95); fill-opacity: 1; white-space: pre; opacity: 1;\">Сочи</text></g><g class=\"xtick\"><text text-anchor=\"start\" x=\"0\" y=\"405\" transform=\"translate(190.25,0) rotate(30,0,399)\" style=\"font-family: 'Open Sans', verdana, arial, sans-serif; font-size: 12px; fill: rgb(42, 63, 95); fill-opacity: 1; white-space: pre; opacity: 1;\">Казань</text></g><g class=\"xtick\"><text text-anchor=\"start\" x=\"0\" y=\"405\" transform=\"translate(221.75,0) rotate(30,0,399)\" style=\"font-family: 'Open Sans', verdana, arial, sans-serif; font-size: 12px; fill: rgb(42, 63, 95); fill-opacity: 1; white-space: pre; opacity: 1;\">Новосибирск</text></g><g class=\"xtick\"><text text-anchor=\"start\" x=\"0\" y=\"405\" transform=\"translate(253.25,0) rotate(30,0,399)\" style=\"font-family: 'Open Sans', verdana, arial, sans-serif; font-size: 12px; fill: rgb(42, 63, 95); fill-opacity: 1; white-space: pre; opacity: 1;\">Ростов-на-Дону</text></g><g class=\"xtick\"><text text-anchor=\"start\" x=\"0\" y=\"405\" transform=\"translate(284.75,0) rotate(30,0,399)\" style=\"font-family: 'Open Sans', verdana, arial, sans-serif; font-size: 12px; fill: rgb(42, 63, 95); fill-opacity: 1; white-space: pre; opacity: 1;\">Краснодар</text></g><g class=\"xtick\"><text text-anchor=\"start\" x=\"0\" y=\"405\" transform=\"translate(316.25,0) rotate(30,0,399)\" style=\"font-family: 'Open Sans', verdana, arial, sans-serif; font-size: 12px; fill: rgb(42, 63, 95); fill-opacity: 1; white-space: pre; opacity: 1;\">Уфа</text></g><g class=\"xtick\"><text text-anchor=\"start\" x=\"0\" y=\"405\" transform=\"translate(347.75,0) rotate(30,0,399)\" style=\"font-family: 'Open Sans', verdana, arial, sans-serif; font-size: 12px; fill: rgb(42, 63, 95); fill-opacity: 1; white-space: pre; opacity: 1;\">Воронеж</text></g><g class=\"xtick\"><text text-anchor=\"start\" x=\"0\" y=\"405\" transform=\"translate(379.25,0) rotate(30,0,399)\" style=\"font-family: 'Open Sans', verdana, arial, sans-serif; font-size: 12px; fill: rgb(42, 63, 95); fill-opacity: 1; white-space: pre; opacity: 1;\">Тюмень</text></g><g class=\"xtick\"><text text-anchor=\"start\" x=\"0\" y=\"405\" transform=\"translate(410.75,0) rotate(30,0,399)\" style=\"font-family: 'Open Sans', verdana, arial, sans-serif; font-size: 12px; fill: rgb(42, 63, 95); fill-opacity: 1; white-space: pre; opacity: 1;\">Нижний Новгород</text></g><g class=\"xtick\"><text text-anchor=\"start\" x=\"0\" y=\"405\" transform=\"translate(442.25,0) rotate(30,0,399)\" style=\"font-family: 'Open Sans', verdana, arial, sans-serif; font-size: 12px; fill: rgb(42, 63, 95); fill-opacity: 1; white-space: pre; opacity: 1;\">Севастополь</text></g><g class=\"xtick\"><text text-anchor=\"start\" x=\"0\" y=\"405\" transform=\"translate(473.75,0) rotate(30,0,399)\" style=\"font-family: 'Open Sans', verdana, arial, sans-serif; font-size: 12px; fill: rgb(42, 63, 95); fill-opacity: 1; white-space: pre; opacity: 1;\">Самара</text></g><g class=\"xtick\"><text text-anchor=\"start\" x=\"0\" y=\"405\" transform=\"translate(505.25,0) rotate(30,0,399)\" style=\"font-family: 'Open Sans', verdana, arial, sans-serif; font-size: 12px; fill: rgb(42, 63, 95); fill-opacity: 1; white-space: pre; opacity: 1;\">Красноярск</text></g><g class=\"xtick\"><text text-anchor=\"start\" x=\"0\" y=\"405\" transform=\"translate(536.75,0) rotate(30,0,399)\" style=\"font-family: 'Open Sans', verdana, arial, sans-serif; font-size: 12px; fill: rgb(42, 63, 95); fill-opacity: 1; white-space: pre; opacity: 1;\">Челябинск</text></g><g class=\"xtick\"><text text-anchor=\"start\" x=\"0\" y=\"405\" transform=\"translate(568.25,0) rotate(30,0,399)\" style=\"font-family: 'Open Sans', verdana, arial, sans-serif; font-size: 12px; fill: rgb(42, 63, 95); fill-opacity: 1; white-space: pre; opacity: 1;\">Екатеринбург</text></g></g><g class=\"yaxislayer-above\"><g class=\"ytick\"><text text-anchor=\"end\" x=\"79\" y=\"4.199999999999999\" transform=\"translate(0,392)\" style=\"font-family: 'Open Sans', verdana, arial, sans-serif; font-size: 12px; fill: rgb(42, 63, 95); fill-opacity: 1; white-space: pre; opacity: 1;\">0</text></g><g class=\"ytick\"><text text-anchor=\"end\" x=\"79\" y=\"4.199999999999999\" style=\"font-family: 'Open Sans', verdana, arial, sans-serif; font-size: 12px; fill: rgb(42, 63, 95); fill-opacity: 1; white-space: pre; opacity: 1;\" transform=\"translate(0,338.84)\">2M</text></g><g class=\"ytick\"><text text-anchor=\"end\" x=\"79\" y=\"4.199999999999999\" style=\"font-family: 'Open Sans', verdana, arial, sans-serif; font-size: 12px; fill: rgb(42, 63, 95); fill-opacity: 1; white-space: pre; opacity: 1;\" transform=\"translate(0,285.68)\">4M</text></g><g class=\"ytick\"><text text-anchor=\"end\" x=\"79\" y=\"4.199999999999999\" style=\"font-family: 'Open Sans', verdana, arial, sans-serif; font-size: 12px; fill: rgb(42, 63, 95); fill-opacity: 1; white-space: pre; opacity: 1;\" transform=\"translate(0,232.53)\">6M</text></g><g class=\"ytick\"><text text-anchor=\"end\" x=\"79\" y=\"4.199999999999999\" style=\"font-family: 'Open Sans', verdana, arial, sans-serif; font-size: 12px; fill: rgb(42, 63, 95); fill-opacity: 1; white-space: pre; opacity: 1;\" transform=\"translate(0,179.37)\">8M</text></g><g class=\"ytick\"><text text-anchor=\"end\" x=\"79\" y=\"4.199999999999999\" style=\"font-family: 'Open Sans', verdana, arial, sans-serif; font-size: 12px; fill: rgb(42, 63, 95); fill-opacity: 1; white-space: pre; opacity: 1;\" transform=\"translate(0,126.21)\">10M</text></g><g class=\"ytick\"><text text-anchor=\"end\" x=\"79\" y=\"4.199999999999999\" style=\"font-family: 'Open Sans', verdana, arial, sans-serif; font-size: 12px; fill: rgb(42, 63, 95); fill-opacity: 1; white-space: pre; opacity: 1;\" transform=\"translate(0,73.05)\">12M</text></g></g><g class=\"overaxes-above\"/></g></g><g class=\"polarlayer\"/><g class=\"smithlayer\"/><g class=\"ternarylayer\"/><g class=\"geolayer\"/><g class=\"funnelarealayer\"/><g class=\"pielayer\"/><g class=\"iciclelayer\"/><g class=\"treemaplayer\"/><g class=\"sunburstlayer\"/><g class=\"glimages\"/><defs id=\"topdefs-5737d5\"><g class=\"clips\"/><clipPath id=\"legend5737d5\"><rect width=\"94\" height=\"67\" x=\"0\" y=\"0\"/></clipPath></defs><g class=\"layer-above\"><g class=\"imagelayer\"/><g class=\"shapelayer\"/></g><g class=\"infolayer\"><g class=\"legend\" pointer-events=\"all\" transform=\"translate(594.08,60)\"><rect class=\"bg\" shape-rendering=\"crispEdges\" style=\"stroke: rgb(68, 68, 68); stroke-opacity: 1; fill: rgb(255, 255, 255); fill-opacity: 1; stroke-width: 0px;\" width=\"94\" height=\"67\" x=\"0\" y=\"0\"/><g class=\"scrollbox\" transform=\"\" clip-path=\"url(#legend5737d5)\"><text class=\"legendtitletext\" text-anchor=\"start\" x=\"2\" y=\"18.2\" style=\"font-family: 'Open Sans', verdana, arial, sans-serif; font-size: 14px; fill: rgb(42, 63, 95); fill-opacity: 1; white-space: pre;\">Компания</text><g class=\"groups\" transform=\"\"><g class=\"traces\" transform=\"translate(0,32.7)\" style=\"opacity: 1;\"><text class=\"legendtext\" text-anchor=\"start\" x=\"40\" y=\"4.680000000000001\" style=\"font-family: 'Open Sans', verdana, arial, sans-serif; font-size: 12px; fill: rgb(42, 63, 95); fill-opacity: 1; white-space: pre;\">Игрок 2</text><g class=\"layers\" style=\"opacity: 1;\"><g class=\"legendfill\"/><g class=\"legendlines\"/><g class=\"legendsymbols\"><g class=\"legendpoints\"><path class=\"legendundefined\" d=\"M6,6H-6V-6H6Z\" transform=\"translate(20,0)\" style=\"stroke-width: 0.5px; fill: rgb(251, 180, 174); fill-opacity: 1; stroke: rgb(229, 236, 246); stroke-opacity: 1;\"/></g></g></g><rect class=\"legendtoggle\" x=\"0\" y=\"-9.5\" width=\"88.75\" height=\"19\" style=\"fill: rgb(0, 0, 0); fill-opacity: 0;\"/></g></g><g class=\"groups\" transform=\"\"><g class=\"traces\" transform=\"translate(0,51.7)\" style=\"opacity: 1;\"><text class=\"legendtext\" text-anchor=\"start\" x=\"40\" y=\"4.680000000000001\" style=\"font-family: 'Open Sans', verdana, arial, sans-serif; font-size: 12px; fill: rgb(42, 63, 95); fill-opacity: 1; white-space: pre;\">Игрок 1</text><g class=\"layers\" style=\"opacity: 1;\"><g class=\"legendfill\"/><g class=\"legendlines\"/><g class=\"legendsymbols\"><g class=\"legendpoints\"><path class=\"legendundefined\" d=\"M6,6H-6V-6H6Z\" transform=\"translate(20,0)\" style=\"stroke-width: 0.5px; fill: rgb(179, 205, 227); fill-opacity: 1; stroke: rgb(229, 236, 246); stroke-opacity: 1;\"/></g></g></g><rect class=\"legendtoggle\" x=\"0\" y=\"-9.5\" width=\"88.75\" height=\"19\" style=\"fill: rgb(0, 0, 0); fill-opacity: 0;\"/></g></g></g><rect class=\"scrollbar\" rx=\"20\" ry=\"3\" width=\"0\" height=\"0\" style=\"fill: rgb(128, 139, 164); fill-opacity: 1;\" x=\"0\" y=\"0\"/></g><g class=\"g-gtitle\"><text class=\"gtitle\" x=\"350\" y=\"30\" text-anchor=\"middle\" dy=\"0em\" style=\"font-family: 'Open Sans', verdana, arial, sans-serif; font-size: 17px; fill: rgb(42, 63, 95); opacity: 1; font-weight: normal; white-space: pre;\">Распределение количества контента по компаниям и регионам</text></g><g class=\"g-xtitle\"><text class=\"xtitle\" x=\"332\" y=\"487.9142578125\" text-anchor=\"middle\" style=\"font-family: 'Open Sans', verdana, arial, sans-serif; font-size: 14px; fill: rgb(42, 63, 95); opacity: 1; font-weight: normal; white-space: pre;\">Регион</text></g><g class=\"g-ytitle\"><text class=\"ytitle\" transform=\"rotate(-90,28.825000000000003,226)\" x=\"28.825000000000003\" y=\"226\" text-anchor=\"middle\" style=\"font-family: 'Open Sans', verdana, arial, sans-serif; font-size: 14px; fill: rgb(42, 63, 95); opacity: 1; font-weight: normal; white-space: pre;\">Количество контента</text></g></g></svg>"
      ]
     },
     "metadata": {},
     "output_type": "display_data"
    }
   ],
   "source": [
    "# создание таблицы с общим количеством контента по компаниям и регионам\n",
    "df_region = data.groupby(['Регион', 'Компания'], as_index=False)['Контент'].sum().sort_values(by='Контент', ascending=False)\n",
    "\n",
    "# построение столбчатой диаграммы\n",
    "fig = px.bar(\n",
    "    df_region, \n",
    "    x='Регион', \n",
    "    y='Контент',\n",
    "    color='Компания',\n",
    "    barmode='group',\n",
    "    color_discrete_sequence=px.colors.qualitative.Pastel1\n",
    ")\n",
    "\n",
    "fig.update_layout(\n",
    "    title='Распределение количества контента по компаниям и регионам',\n",
    "    title_x=0.5,\n",
    "    xaxis_title='Регион',\n",
    "    yaxis_title='Количество контента'\n",
    ")\n",
    "fig.show()"
   ]
  },
  {
   "cell_type": "markdown",
   "id": "8dc7b723",
   "metadata": {},
   "source": [
    "В большинстве регионов по количеству объявлений лидирует Игрок 1. Однако, в двух самых крупных городах (Москве и Санкт-Петербурге) бОльшую долю занимает Игрок 2, преимущественно в Петербурге."
   ]
  },
  {
   "cell_type": "markdown",
   "id": "f89fd5e3",
   "metadata": {},
   "source": [
    "### Анализ по типам сделки"
   ]
  },
  {
   "cell_type": "markdown",
   "id": "79bd3cc8",
   "metadata": {},
   "source": [
    "Сравним компании по типу сделки (аренда/продажа)."
   ]
  },
  {
   "cell_type": "code",
   "execution_count": 9,
   "id": "b3242ade",
   "metadata": {},
   "outputs": [
    {
     "data": {
      "image/svg+xml": [
       "<svg class=\"main-svg\" xmlns=\"http://www.w3.org/2000/svg\" xmlns:xlink=\"http://www.w3.org/1999/xlink\" width=\"840\" height=\"600\" style=\"\" viewBox=\"0 0 700 500\"><rect x=\"0\" y=\"0\" width=\"700\" height=\"500\" style=\"fill: rgb(255, 255, 255); fill-opacity: 1;\"/><defs id=\"defs-da81cc\"><g class=\"clips\"><clipPath id=\"clipda81ccxyplot\" class=\"plotclip\"><rect width=\"504\" height=\"360\"/></clipPath><clipPath class=\"axesclip\" id=\"clipda81ccx\"><rect x=\"80\" y=\"0\" width=\"504\" height=\"500\"/></clipPath><clipPath class=\"axesclip\" id=\"clipda81ccy\"><rect x=\"0\" y=\"60\" width=\"700\" height=\"360\"/></clipPath><clipPath class=\"axesclip\" id=\"clipda81ccxy\"><rect x=\"80\" y=\"60\" width=\"504\" height=\"360\"/></clipPath></g><g class=\"gradients\"/><g class=\"patterns\"/></defs><g class=\"bglayer\"><rect class=\"bg\" x=\"80\" y=\"60\" width=\"504\" height=\"360\" style=\"fill: rgb(229, 236, 246); fill-opacity: 1; stroke-width: 0;\"/></g><g class=\"layer-below\"><g class=\"imagelayer\"/><g class=\"shapelayer\"/></g><g class=\"cartesianlayer\"><g class=\"subplot xy\"><g class=\"layer-subplot\"><g class=\"shapelayer\"/><g class=\"imagelayer\"/></g><g class=\"minor-gridlayer\"><g class=\"x\"/><g class=\"y\"/></g><g class=\"gridlayer\"><g class=\"x\"/><g class=\"y\"><path class=\"ygrid crisp\" transform=\"translate(0,379.35)\" d=\"M80,0h504\" style=\"stroke: rgb(255, 255, 255); stroke-opacity: 1; stroke-width: 1px;\"/><path class=\"ygrid crisp\" transform=\"translate(0,338.7)\" d=\"M80,0h504\" style=\"stroke: rgb(255, 255, 255); stroke-opacity: 1; stroke-width: 1px;\"/><path class=\"ygrid crisp\" transform=\"translate(0,298.05)\" d=\"M80,0h504\" style=\"stroke: rgb(255, 255, 255); stroke-opacity: 1; stroke-width: 1px;\"/><path class=\"ygrid crisp\" transform=\"translate(0,257.4)\" d=\"M80,0h504\" style=\"stroke: rgb(255, 255, 255); stroke-opacity: 1; stroke-width: 1px;\"/><path class=\"ygrid crisp\" transform=\"translate(0,216.75)\" d=\"M80,0h504\" style=\"stroke: rgb(255, 255, 255); stroke-opacity: 1; stroke-width: 1px;\"/><path class=\"ygrid crisp\" transform=\"translate(0,176.1)\" d=\"M80,0h504\" style=\"stroke: rgb(255, 255, 255); stroke-opacity: 1; stroke-width: 1px;\"/><path class=\"ygrid crisp\" transform=\"translate(0,135.45)\" d=\"M80,0h504\" style=\"stroke: rgb(255, 255, 255); stroke-opacity: 1; stroke-width: 1px;\"/><path class=\"ygrid crisp\" transform=\"translate(0,94.78999999999999)\" d=\"M80,0h504\" style=\"stroke: rgb(255, 255, 255); stroke-opacity: 1; stroke-width: 1px;\"/></g></g><g class=\"zerolinelayer\"><path class=\"yzl zl crisp\" transform=\"translate(0,420)\" d=\"M80,0h504\" style=\"stroke: rgb(255, 255, 255); stroke-opacity: 1; stroke-width: 2px;\"/></g><path class=\"xlines-below\"/><path class=\"ylines-below\"/><g class=\"overlines-below\"/><g class=\"xaxislayer-below\"/><g class=\"yaxislayer-below\"/><g class=\"overaxes-below\"/><g class=\"plot\" transform=\"translate(80,60)\" clip-path=\"url(#clipda81ccxyplot)\"><g class=\"barlayer mlayer\"><g class=\"trace bars\" style=\"opacity: 1;\"><g class=\"points\"><g class=\"point\"><path d=\"M25.2,360V18H126V360Z\" style=\"vector-effect: non-scaling-stroke; opacity: 1; stroke-width: 0.5px; fill: rgb(251, 180, 174); fill-opacity: 1; stroke: rgb(229, 236, 246); stroke-opacity: 1;\"/></g><g class=\"point\"><path d=\"M277.2,360V279.92H378V360Z\" style=\"vector-effect: non-scaling-stroke; opacity: 1; stroke-width: 0.5px; fill: rgb(251, 180, 174); fill-opacity: 1; stroke: rgb(229, 236, 246); stroke-opacity: 1;\"/></g></g></g><g class=\"trace bars\" style=\"opacity: 1;\"><g class=\"points\"><g class=\"point\"><path d=\"M126,360V49.85H226.8V360Z\" style=\"vector-effect: non-scaling-stroke; opacity: 1; stroke-width: 0.5px; fill: rgb(179, 205, 227); fill-opacity: 1; stroke: rgb(229, 236, 246); stroke-opacity: 1;\"/></g><g class=\"point\"><path d=\"M378,360V249.66H478.8V360Z\" style=\"vector-effect: non-scaling-stroke; opacity: 1; stroke-width: 0.5px; fill: rgb(179, 205, 227); fill-opacity: 1; stroke: rgb(229, 236, 246); stroke-opacity: 1;\"/></g></g></g></g></g><g class=\"overplot\"/><path class=\"xlines-above crisp\" d=\"M0,0\" style=\"fill: none;\"/><path class=\"ylines-above crisp\" d=\"M0,0\" style=\"fill: none;\"/><g class=\"overlines-above\"/><g class=\"xaxislayer-above\"><g class=\"xtick\"><text text-anchor=\"middle\" x=\"0\" y=\"433\" transform=\"translate(206,0)\" style=\"font-family: 'Open Sans', verdana, arial, sans-serif; font-size: 12px; fill: rgb(42, 63, 95); fill-opacity: 1; white-space: pre; opacity: 1;\">Продажа</text></g><g class=\"xtick\"><text text-anchor=\"middle\" x=\"0\" y=\"433\" transform=\"translate(458,0)\" style=\"font-family: 'Open Sans', verdana, arial, sans-serif; font-size: 12px; fill: rgb(42, 63, 95); fill-opacity: 1; white-space: pre; opacity: 1;\">Аренда</text></g></g><g class=\"yaxislayer-above\"><g class=\"ytick\"><text text-anchor=\"end\" x=\"79\" y=\"4.199999999999999\" transform=\"translate(0,420)\" style=\"font-family: 'Open Sans', verdana, arial, sans-serif; font-size: 12px; fill: rgb(42, 63, 95); fill-opacity: 1; white-space: pre; opacity: 1;\">0</text></g><g class=\"ytick\"><text text-anchor=\"end\" x=\"79\" y=\"4.199999999999999\" style=\"font-family: 'Open Sans', verdana, arial, sans-serif; font-size: 12px; fill: rgb(42, 63, 95); fill-opacity: 1; white-space: pre; opacity: 1;\" transform=\"translate(0,379.35)\">5M</text></g><g class=\"ytick\"><text text-anchor=\"end\" x=\"79\" y=\"4.199999999999999\" style=\"font-family: 'Open Sans', verdana, arial, sans-serif; font-size: 12px; fill: rgb(42, 63, 95); fill-opacity: 1; white-space: pre; opacity: 1;\" transform=\"translate(0,338.7)\">10M</text></g><g class=\"ytick\"><text text-anchor=\"end\" x=\"79\" y=\"4.199999999999999\" style=\"font-family: 'Open Sans', verdana, arial, sans-serif; font-size: 12px; fill: rgb(42, 63, 95); fill-opacity: 1; white-space: pre; opacity: 1;\" transform=\"translate(0,298.05)\">15M</text></g><g class=\"ytick\"><text text-anchor=\"end\" x=\"79\" y=\"4.199999999999999\" style=\"font-family: 'Open Sans', verdana, arial, sans-serif; font-size: 12px; fill: rgb(42, 63, 95); fill-opacity: 1; white-space: pre; opacity: 1;\" transform=\"translate(0,257.4)\">20M</text></g><g class=\"ytick\"><text text-anchor=\"end\" x=\"79\" y=\"4.199999999999999\" style=\"font-family: 'Open Sans', verdana, arial, sans-serif; font-size: 12px; fill: rgb(42, 63, 95); fill-opacity: 1; white-space: pre; opacity: 1;\" transform=\"translate(0,216.75)\">25M</text></g><g class=\"ytick\"><text text-anchor=\"end\" x=\"79\" y=\"4.199999999999999\" style=\"font-family: 'Open Sans', verdana, arial, sans-serif; font-size: 12px; fill: rgb(42, 63, 95); fill-opacity: 1; white-space: pre; opacity: 1;\" transform=\"translate(0,176.1)\">30M</text></g><g class=\"ytick\"><text text-anchor=\"end\" x=\"79\" y=\"4.199999999999999\" style=\"font-family: 'Open Sans', verdana, arial, sans-serif; font-size: 12px; fill: rgb(42, 63, 95); fill-opacity: 1; white-space: pre; opacity: 1;\" transform=\"translate(0,135.45)\">35M</text></g><g class=\"ytick\"><text text-anchor=\"end\" x=\"79\" y=\"4.199999999999999\" style=\"font-family: 'Open Sans', verdana, arial, sans-serif; font-size: 12px; fill: rgb(42, 63, 95); fill-opacity: 1; white-space: pre; opacity: 1;\" transform=\"translate(0,94.78999999999999)\">40M</text></g></g><g class=\"overaxes-above\"/></g></g><g class=\"polarlayer\"/><g class=\"smithlayer\"/><g class=\"ternarylayer\"/><g class=\"geolayer\"/><g class=\"funnelarealayer\"/><g class=\"pielayer\"/><g class=\"iciclelayer\"/><g class=\"treemaplayer\"/><g class=\"sunburstlayer\"/><g class=\"glimages\"/><defs id=\"topdefs-da81cc\"><g class=\"clips\"/><clipPath id=\"legendda81cc\"><rect width=\"94\" height=\"67\" x=\"0\" y=\"0\"/></clipPath></defs><g class=\"layer-above\"><g class=\"imagelayer\"/><g class=\"shapelayer\"/></g><g class=\"infolayer\"><g class=\"legend\" pointer-events=\"all\" transform=\"translate(594.08,60)\"><rect class=\"bg\" shape-rendering=\"crispEdges\" width=\"94\" height=\"67\" x=\"0\" y=\"0\" style=\"stroke: rgb(68, 68, 68); stroke-opacity: 1; fill: rgb(255, 255, 255); fill-opacity: 1; stroke-width: 0px;\"/><g class=\"scrollbox\" transform=\"\" clip-path=\"url(#legendda81cc)\"><text class=\"legendtitletext\" text-anchor=\"start\" x=\"2\" y=\"18.2\" style=\"font-family: 'Open Sans', verdana, arial, sans-serif; font-size: 14px; fill: rgb(42, 63, 95); fill-opacity: 1; white-space: pre;\">Компания</text><g class=\"groups\" transform=\"\"><g class=\"traces\" transform=\"translate(0,32.7)\" style=\"opacity: 1;\"><text class=\"legendtext\" text-anchor=\"start\" x=\"40\" y=\"4.680000000000001\" style=\"font-family: 'Open Sans', verdana, arial, sans-serif; font-size: 12px; fill: rgb(42, 63, 95); fill-opacity: 1; white-space: pre;\">Игрок 2</text><g class=\"layers\" style=\"opacity: 1;\"><g class=\"legendfill\"/><g class=\"legendlines\"/><g class=\"legendsymbols\"><g class=\"legendpoints\"><path class=\"legendundefined\" d=\"M6,6H-6V-6H6Z\" transform=\"translate(20,0)\" style=\"stroke-width: 0.5px; fill: rgb(251, 180, 174); fill-opacity: 1; stroke: rgb(229, 236, 246); stroke-opacity: 1;\"/></g></g></g><rect class=\"legendtoggle\" x=\"0\" y=\"-9.5\" width=\"88.75\" height=\"19\" style=\"fill: rgb(0, 0, 0); fill-opacity: 0;\"/></g></g><g class=\"groups\" transform=\"\"><g class=\"traces\" transform=\"translate(0,51.7)\" style=\"opacity: 1;\"><text class=\"legendtext\" text-anchor=\"start\" x=\"40\" y=\"4.680000000000001\" style=\"font-family: 'Open Sans', verdana, arial, sans-serif; font-size: 12px; fill: rgb(42, 63, 95); fill-opacity: 1; white-space: pre;\">Игрок 1</text><g class=\"layers\" style=\"opacity: 1;\"><g class=\"legendfill\"/><g class=\"legendlines\"/><g class=\"legendsymbols\"><g class=\"legendpoints\"><path class=\"legendundefined\" d=\"M6,6H-6V-6H6Z\" transform=\"translate(20,0)\" style=\"stroke-width: 0.5px; fill: rgb(179, 205, 227); fill-opacity: 1; stroke: rgb(229, 236, 246); stroke-opacity: 1;\"/></g></g></g><rect class=\"legendtoggle\" x=\"0\" y=\"-9.5\" width=\"88.75\" height=\"19\" style=\"fill: rgb(0, 0, 0); fill-opacity: 0;\"/></g></g></g><rect class=\"scrollbar\" rx=\"20\" ry=\"3\" width=\"0\" height=\"0\" x=\"0\" y=\"0\" style=\"fill: rgb(128, 139, 164); fill-opacity: 1;\"/></g><g class=\"g-gtitle\"><text class=\"gtitle\" x=\"350\" y=\"30\" text-anchor=\"middle\" dy=\"0em\" style=\"font-family: 'Open Sans', verdana, arial, sans-serif; font-size: 17px; fill: rgb(42, 63, 95); opacity: 1; font-weight: normal; white-space: pre;\">Распределение количества контента по компаниям и типам сделки</text></g><g class=\"g-xtitle\"><text class=\"xtitle\" x=\"332\" y=\"460.8\" text-anchor=\"middle\" style=\"font-family: 'Open Sans', verdana, arial, sans-serif; font-size: 14px; fill: rgb(42, 63, 95); opacity: 1; font-weight: normal; white-space: pre;\">Тип сделки</text></g><g class=\"g-ytitle\"><text class=\"ytitle\" transform=\"rotate(-90,28.825000000000003,240)\" x=\"28.825000000000003\" y=\"240\" text-anchor=\"middle\" style=\"font-family: 'Open Sans', verdana, arial, sans-serif; font-size: 14px; fill: rgb(42, 63, 95); opacity: 1; font-weight: normal; white-space: pre;\">Количество контента</text></g></g></svg>"
      ]
     },
     "metadata": {},
     "output_type": "display_data"
    }
   ],
   "source": [
    "# создание таблицы с общим количеством контента по компаниям и типам сделки\n",
    "df_type_deal = data.groupby(['Тип сделки', 'Компания'], as_index=False)['Контент'].sum().sort_values(by='Контент', ascending=False)\n",
    "\n",
    "# построение столбчатой диаграммы \n",
    "fig = px.bar(\n",
    "    df_type_deal, \n",
    "    x='Тип сделки', \n",
    "    y='Контент',\n",
    "    color='Компания',\n",
    "    barmode='group',\n",
    "    color_discrete_sequence=px.colors.qualitative.Pastel1\n",
    ")\n",
    "\n",
    "fig.update_layout(\n",
    "    title='Распределение количества контента по компаниям и типам сделки',\n",
    "    title_x=0.5,\n",
    "    xaxis_title='Тип сделки',\n",
    "    yaxis_title='Количество контента'\n",
    ")\n",
    "fig.show()"
   ]
  },
  {
   "cell_type": "markdown",
   "id": "ef954e48",
   "metadata": {},
   "source": [
    "По продаже недвижимости лидирует Игрок 2, а по аренде Игрок 1."
   ]
  },
  {
   "cell_type": "markdown",
   "id": "1b34469c",
   "metadata": {},
   "source": [
    "Посмотрим на процентное соотношение количества контента по типу сделки внутри каждой из компаний."
   ]
  },
  {
   "cell_type": "code",
   "execution_count": 10,
   "id": "40524778",
   "metadata": {},
   "outputs": [
    {
     "data": {
      "image/svg+xml": [
       "<svg class=\"main-svg\" xmlns=\"http://www.w3.org/2000/svg\" xmlns:xlink=\"http://www.w3.org/1999/xlink\" width=\"840\" height=\"600\" style=\"\" viewBox=\"0 0 700 500\"><rect x=\"0\" y=\"0\" width=\"700\" height=\"500\" style=\"fill: rgb(255, 255, 255); fill-opacity: 1;\"/><defs id=\"defs-bf3a27\"><g class=\"clips\"/><g class=\"gradients\"/><g class=\"patterns\"/></defs><g class=\"bglayer\"/><g class=\"layer-below\"><g class=\"imagelayer\"/><g class=\"shapelayer\"/></g><g class=\"cartesianlayer\"/><g class=\"polarlayer\"/><g class=\"smithlayer\"/><g class=\"ternarylayer\"/><g class=\"geolayer\"/><g class=\"funnelarealayer\"/><g class=\"pielayer\"><g class=\"trace\" stroke-linejoin=\"round\" style=\"opacity: 1;\"><g class=\"slice\"><path class=\"surface\" d=\"M191.825,260l0,-111.825a111.825,111.825 0 1 1 -111.48554597665692,120.53152992223185Z\" style=\"pointer-events: all; stroke-width: 0; fill: rgb(179, 205, 227); fill-opacity: 1; stroke: rgb(68, 68, 68); stroke-opacity: 1;\"/><g class=\"slicetext\"><text data-notex=\"1\" class=\"slicetext\" transform=\"translate(232.83231117288608,302.46581178581334)\" text-anchor=\"middle\" x=\"0\" y=\"0\" style=\"font-family: 'Open Sans', verdana, arial, sans-serif; font-size: 12px; fill: rgb(68, 68, 68); fill-opacity: 1; white-space: pre;\">73.8%</text></g></g><g class=\"slice\"><path class=\"surface\" d=\"M191.825,260l-111.48554597665692,8.706529922231827a111.825,111.825 0 0 1 111.48554597665692,-120.53152992223183Z\" style=\"pointer-events: all; stroke-width: 0; fill: rgb(251, 180, 174); fill-opacity: 1; stroke: rgb(68, 68, 68); stroke-opacity: 1;\"/><g class=\"slicetext\"><text data-notex=\"1\" class=\"slicetext\" transform=\"translate(144.44616794516804,220.71311652946923)\" text-anchor=\"middle\" x=\"0\" y=\"0\" style=\"font-family: 'Open Sans', verdana, arial, sans-serif; font-size: 12px; fill: rgb(68, 68, 68); fill-opacity: 1; white-space: pre;\">26.2%</text></g></g></g><g class=\"trace\" stroke-linejoin=\"round\" style=\"opacity: 1;\"><g class=\"slice\"><path class=\"surface\" d=\"M465.175,260l0,-111.82499999999999a111.82499999999999,111.82499999999999 0 1 1 -103.90159708474084,70.48145457583286Z\" style=\"pointer-events: all; stroke-width: 0; fill: rgb(179, 205, 227); fill-opacity: 1; stroke: rgb(68, 68, 68); stroke-opacity: 1;\"/><g class=\"slicetext\"><text data-notex=\"1\" class=\"slicetext\" transform=\"translate(496.5238106717014,310.77103925791147)\" text-anchor=\"middle\" x=\"0\" y=\"0\" style=\"font-family: 'Open Sans', verdana, arial, sans-serif; font-size: 12px; fill: rgb(68, 68, 68); fill-opacity: 1; white-space: pre;\">81%</text></g></g><g class=\"slice\"><path class=\"surface\" d=\"M465.175,260l-103.90159708474087,-41.34354542416707a111.82499999999999,111.82499999999999 0 0 1 103.90159708474087,-70.48145457583291Z\" style=\"pointer-events: all; stroke-width: 0; fill: rgb(251, 180, 174); fill-opacity: 1; stroke: rgb(68, 68, 68); stroke-opacity: 1;\"/><g class=\"slicetext\"><text data-notex=\"1\" class=\"slicetext\" transform=\"translate(424.9305089330203,205.2303912110516)\" text-anchor=\"middle\" x=\"0\" y=\"0\" style=\"font-family: 'Open Sans', verdana, arial, sans-serif; font-size: 12px; fill: rgb(68, 68, 68); fill-opacity: 1; white-space: pre;\">19%</text></g></g></g></g><g class=\"iciclelayer\"/><g class=\"treemaplayer\"/><g class=\"sunburstlayer\"/><g class=\"glimages\"/><defs id=\"topdefs-bf3a27\"><g class=\"clips\"/><clipPath id=\"legendbf3a27\"><rect width=\"101\" height=\"48\" x=\"0\" y=\"0\"/></clipPath></defs><g class=\"layer-above\"><g class=\"imagelayer\"/><g class=\"shapelayer\"/></g><g class=\"infolayer\"><g class=\"legend\" pointer-events=\"all\" transform=\"translate(586.94,100)\"><rect class=\"bg\" shape-rendering=\"crispEdges\" style=\"stroke: rgb(68, 68, 68); stroke-opacity: 1; fill: rgb(255, 255, 255); fill-opacity: 1; stroke-width: 0px;\" width=\"101\" height=\"48\" x=\"0\" y=\"0\"/><g class=\"scrollbox\" transform=\"\" clip-path=\"url(#legendbf3a27)\"><g class=\"groups\"><g class=\"traces\" transform=\"translate(0,14.5)\" style=\"opacity: 1;\"><text class=\"legendtext\" text-anchor=\"start\" x=\"40\" y=\"4.680000000000001\" style=\"font-family: 'Open Sans', verdana, arial, sans-serif; font-size: 12px; fill: rgb(42, 63, 95); fill-opacity: 1; white-space: pre;\">Продажа</text><g class=\"layers\" style=\"opacity: 1;\"><g class=\"legendfill\"/><g class=\"legendlines\"/><g class=\"legendsymbols\"><g class=\"legendpoints\"><path class=\"legendpie\" d=\"M6,6H-6V-6H6Z\" transform=\"translate(20,0)\" style=\"stroke-width: 0; fill: rgb(179, 205, 227); fill-opacity: 1; stroke: rgb(68, 68, 68); stroke-opacity: 1;\"/></g></g></g><rect class=\"legendtoggle\" x=\"0\" y=\"-9.5\" width=\"95.234375\" height=\"19\" style=\"fill: rgb(0, 0, 0); fill-opacity: 0;\"/></g><g class=\"traces\" transform=\"translate(0,33.5)\" style=\"opacity: 1;\"><text class=\"legendtext\" text-anchor=\"start\" x=\"40\" y=\"4.680000000000001\" style=\"font-family: 'Open Sans', verdana, arial, sans-serif; font-size: 12px; fill: rgb(42, 63, 95); fill-opacity: 1; white-space: pre;\">Аренда</text><g class=\"layers\" style=\"opacity: 1;\"><g class=\"legendfill\"/><g class=\"legendlines\"/><g class=\"legendsymbols\"><g class=\"legendpoints\"><path class=\"legendpie\" d=\"M6,6H-6V-6H6Z\" transform=\"translate(20,0)\" style=\"stroke-width: 0; fill: rgb(251, 180, 174); fill-opacity: 1; stroke: rgb(68, 68, 68); stroke-opacity: 1;\"/></g></g></g><rect class=\"legendtoggle\" x=\"0\" y=\"-9.5\" width=\"95.234375\" height=\"19\" style=\"fill: rgb(0, 0, 0); fill-opacity: 0;\"/></g></g></g><rect class=\"scrollbar\" rx=\"20\" ry=\"3\" width=\"0\" height=\"0\" style=\"fill: rgb(128, 139, 164); fill-opacity: 1;\" x=\"0\" y=\"0\"/></g><g class=\"g-gtitle\"><text class=\"gtitle\" x=\"350\" y=\"50\" text-anchor=\"middle\" dy=\"0em\" style=\"font-family: 'Open Sans', verdana, arial, sans-serif; font-size: 17px; fill: rgb(42, 63, 95); opacity: 1; font-weight: normal; white-space: pre;\">Круговая диаграмма по количеству контента по типу сделки</text></g><g class=\"annotation\" data-index=\"0\" style=\"opacity: 1;\"><g class=\"annotation-text-g\" transform=\"rotate(0,211.4,78.99999999999997)\"><g class=\"cursor-pointer\" transform=\"translate(179,68)\"><rect class=\"bg\" x=\"0.5\" y=\"0.5\" width=\"63\" height=\"21\" style=\"stroke-width: 1px; stroke: rgb(0, 0, 0); stroke-opacity: 0; fill: rgb(0, 0, 0); fill-opacity: 0;\"/><text class=\"annotation-text\" text-anchor=\"middle\" x=\"32.234375\" y=\"17\" style=\"font-family: 'Open Sans', verdana, arial, sans-serif; font-size: 15px; fill: rgb(42, 63, 95); fill-opacity: 1; white-space: pre;\">Игрок 1</text></g></g></g><g class=\"annotation\" data-index=\"1\" style=\"opacity: 1;\"><g class=\"annotation-text-g\" transform=\"rotate(0,445.6,78.99999999999997)\"><g class=\"cursor-pointer\" transform=\"translate(414,68)\"><rect class=\"bg\" x=\"0.5\" y=\"0.5\" width=\"63\" height=\"21\" style=\"stroke-width: 1px; stroke: rgb(0, 0, 0); stroke-opacity: 0; fill: rgb(0, 0, 0); fill-opacity: 0;\"/><text class=\"annotation-text\" text-anchor=\"middle\" x=\"32.234375\" y=\"17\" style=\"font-family: 'Open Sans', verdana, arial, sans-serif; font-size: 15px; fill: rgb(42, 63, 95); fill-opacity: 1; white-space: pre;\">Игрок 2</text></g></g></g></g></svg>"
      ]
     },
     "metadata": {},
     "output_type": "display_data"
    }
   ],
   "source": [
    "# создание таблиц с количеством контента по типам сделки\n",
    "df_type_deal_1 = data.query('Компания == \"Игрок 1\"').groupby('Тип сделки', as_index=False)['Контент'].sum()\n",
    "df_type_deal_2 = data.query('Компания == \"Игрок 2\"').groupby('Тип сделки', as_index=False)['Контент'].sum()\n",
    "\n",
    "# построение круговой диаграммы\n",
    "fig = make_subplots(rows=1, cols=2, specs=[[{'type':'domain'}, {'type':'domain'}]])\n",
    "\n",
    "fig.add_trace(go.Pie(labels=df_type_deal_1['Тип сделки'], values=df_type_deal_1['Контент'], marker=dict(colors=colors), name='Игрок 1'), 1, 1)\n",
    "\n",
    "fig.add_trace(go.Pie(labels=df_type_deal_2['Тип сделки'], values=df_type_deal_2['Контент'], marker=dict(colors=colors), name='Игрок 2'), 1, 2)\n",
    "\n",
    "fig.update_layout(\n",
    "    title='Круговая диаграмма по количеству контента по типу сделки',\n",
    "    title_x = 0.5,\n",
    "    annotations=[dict(text='Игрок 1', x=0.2, y=1.1, font_size=15, showarrow=False),\n",
    "                 dict(text='Игрок 2', x=0.8, y=1.1, font_size=15, showarrow=False)]\n",
    ")\n",
    "\n",
    "fig.show()"
   ]
  },
  {
   "cell_type": "markdown",
   "id": "2feafe9a",
   "metadata": {},
   "source": [
    "По сравнению с игроком 1 у компании \"Игрок 2\" большую долю по количеству контента занимает продажа недвижимости."
   ]
  },
  {
   "cell_type": "markdown",
   "id": "251b9f89",
   "metadata": {},
   "source": [
    "### Анализ по категориям недвижимости"
   ]
  },
  {
   "cell_type": "markdown",
   "id": "a4f36240",
   "metadata": {},
   "source": [
    "Теперь детальнее посмотрим на разбивку по категориям недвижимости (городская/загородная)."
   ]
  },
  {
   "cell_type": "code",
   "execution_count": 11,
   "id": "a3778de4",
   "metadata": {},
   "outputs": [
    {
     "data": {
      "image/svg+xml": [
       "<svg class=\"main-svg\" xmlns=\"http://www.w3.org/2000/svg\" xmlns:xlink=\"http://www.w3.org/1999/xlink\" width=\"840\" height=\"600\" style=\"\" viewBox=\"0 0 700 500\"><rect x=\"0\" y=\"0\" width=\"700\" height=\"500\" style=\"fill: rgb(255, 255, 255); fill-opacity: 1;\"/><defs id=\"defs-107ee4\"><g class=\"clips\"><clipPath id=\"clip107ee4xyplot\" class=\"plotclip\"><rect width=\"504\" height=\"360\"/></clipPath><clipPath class=\"axesclip\" id=\"clip107ee4x\"><rect x=\"80\" y=\"0\" width=\"504\" height=\"500\"/></clipPath><clipPath class=\"axesclip\" id=\"clip107ee4y\"><rect x=\"0\" y=\"60\" width=\"700\" height=\"360\"/></clipPath><clipPath class=\"axesclip\" id=\"clip107ee4xy\"><rect x=\"80\" y=\"60\" width=\"504\" height=\"360\"/></clipPath></g><g class=\"gradients\"/><g class=\"patterns\"/></defs><g class=\"bglayer\"><rect class=\"bg\" x=\"80\" y=\"60\" width=\"504\" height=\"360\" style=\"fill: rgb(229, 236, 246); fill-opacity: 1; stroke-width: 0;\"/></g><g class=\"layer-below\"><g class=\"imagelayer\"/><g class=\"shapelayer\"/></g><g class=\"cartesianlayer\"><g class=\"subplot xy\"><g class=\"layer-subplot\"><g class=\"shapelayer\"/><g class=\"imagelayer\"/></g><g class=\"minor-gridlayer\"><g class=\"x\"/><g class=\"y\"/></g><g class=\"gridlayer\"><g class=\"x\"/><g class=\"y\"><path class=\"ygrid crisp\" transform=\"translate(0,381.41)\" d=\"M80,0h504\" style=\"stroke: rgb(255, 255, 255); stroke-opacity: 1; stroke-width: 1px;\"/><path class=\"ygrid crisp\" transform=\"translate(0,342.82)\" d=\"M80,0h504\" style=\"stroke: rgb(255, 255, 255); stroke-opacity: 1; stroke-width: 1px;\"/><path class=\"ygrid crisp\" transform=\"translate(0,304.23)\" d=\"M80,0h504\" style=\"stroke: rgb(255, 255, 255); stroke-opacity: 1; stroke-width: 1px;\"/><path class=\"ygrid crisp\" transform=\"translate(0,265.64)\" d=\"M80,0h504\" style=\"stroke: rgb(255, 255, 255); stroke-opacity: 1; stroke-width: 1px;\"/><path class=\"ygrid crisp\" transform=\"translate(0,227.04)\" d=\"M80,0h504\" style=\"stroke: rgb(255, 255, 255); stroke-opacity: 1; stroke-width: 1px;\"/><path class=\"ygrid crisp\" transform=\"translate(0,188.45)\" d=\"M80,0h504\" style=\"stroke: rgb(255, 255, 255); stroke-opacity: 1; stroke-width: 1px;\"/><path class=\"ygrid crisp\" transform=\"translate(0,149.86)\" d=\"M80,0h504\" style=\"stroke: rgb(255, 255, 255); stroke-opacity: 1; stroke-width: 1px;\"/><path class=\"ygrid crisp\" transform=\"translate(0,111.27000000000001)\" d=\"M80,0h504\" style=\"stroke: rgb(255, 255, 255); stroke-opacity: 1; stroke-width: 1px;\"/><path class=\"ygrid crisp\" transform=\"translate(0,72.68)\" d=\"M80,0h504\" style=\"stroke: rgb(255, 255, 255); stroke-opacity: 1; stroke-width: 1px;\"/></g></g><g class=\"zerolinelayer\"><path class=\"yzl zl crisp\" transform=\"translate(0,420)\" d=\"M80,0h504\" style=\"stroke: rgb(255, 255, 255); stroke-opacity: 1; stroke-width: 2px;\"/></g><path class=\"xlines-below\"/><path class=\"ylines-below\"/><g class=\"overlines-below\"/><g class=\"xaxislayer-below\"/><g class=\"yaxislayer-below\"/><g class=\"overaxes-below\"/><g class=\"plot\" transform=\"translate(80,60)\" clip-path=\"url(#clip107ee4xyplot)\"><g class=\"barlayer mlayer\"><g class=\"trace bars\" style=\"opacity: 1;\"><g class=\"points\"><g class=\"point\"><path d=\"M25.2,360V18H126V360Z\" style=\"vector-effect: non-scaling-stroke; opacity: 1; stroke-width: 0.5px; fill: rgb(251, 180, 174); fill-opacity: 1; stroke: rgb(229, 236, 246); stroke-opacity: 1;\"/></g><g class=\"point\"><path d=\"M277.2,360V301.3H378V360Z\" style=\"vector-effect: non-scaling-stroke; opacity: 1; stroke-width: 0.5px; fill: rgb(251, 180, 174); fill-opacity: 1; stroke: rgb(229, 236, 246); stroke-opacity: 1;\"/></g></g></g><g class=\"trace bars\" style=\"opacity: 1;\"><g class=\"points\"><g class=\"point\"><path d=\"M126,360V70.13H226.8V360Z\" style=\"vector-effect: non-scaling-stroke; opacity: 1; stroke-width: 0.5px; fill: rgb(179, 205, 227); fill-opacity: 1; stroke: rgb(229, 236, 246); stroke-opacity: 1;\"/></g><g class=\"point\"><path d=\"M378,360V250.68H478.8V360Z\" style=\"vector-effect: non-scaling-stroke; opacity: 1; stroke-width: 0.5px; fill: rgb(179, 205, 227); fill-opacity: 1; stroke: rgb(229, 236, 246); stroke-opacity: 1;\"/></g></g></g></g></g><g class=\"overplot\"/><path class=\"xlines-above crisp\" d=\"M0,0\" style=\"fill: none;\"/><path class=\"ylines-above crisp\" d=\"M0,0\" style=\"fill: none;\"/><g class=\"overlines-above\"/><g class=\"xaxislayer-above\"><g class=\"xtick\"><text text-anchor=\"middle\" x=\"0\" y=\"433\" transform=\"translate(206,0)\" style=\"font-family: 'Open Sans', verdana, arial, sans-serif; font-size: 12px; fill: rgb(42, 63, 95); fill-opacity: 1; white-space: pre; opacity: 1;\">Городская</text></g><g class=\"xtick\"><text text-anchor=\"middle\" x=\"0\" y=\"433\" transform=\"translate(458,0)\" style=\"font-family: 'Open Sans', verdana, arial, sans-serif; font-size: 12px; fill: rgb(42, 63, 95); fill-opacity: 1; white-space: pre; opacity: 1;\">Загородная</text></g></g><g class=\"yaxislayer-above\"><g class=\"ytick\"><text text-anchor=\"end\" x=\"79\" y=\"4.199999999999999\" transform=\"translate(0,420)\" style=\"font-family: 'Open Sans', verdana, arial, sans-serif; font-size: 12px; fill: rgb(42, 63, 95); fill-opacity: 1; white-space: pre; opacity: 1;\">0</text></g><g class=\"ytick\"><text text-anchor=\"end\" x=\"79\" y=\"4.199999999999999\" style=\"font-family: 'Open Sans', verdana, arial, sans-serif; font-size: 12px; fill: rgb(42, 63, 95); fill-opacity: 1; white-space: pre; opacity: 1;\" transform=\"translate(0,381.41)\">5M</text></g><g class=\"ytick\"><text text-anchor=\"end\" x=\"79\" y=\"4.199999999999999\" style=\"font-family: 'Open Sans', verdana, arial, sans-serif; font-size: 12px; fill: rgb(42, 63, 95); fill-opacity: 1; white-space: pre; opacity: 1;\" transform=\"translate(0,342.82)\">10M</text></g><g class=\"ytick\"><text text-anchor=\"end\" x=\"79\" y=\"4.199999999999999\" style=\"font-family: 'Open Sans', verdana, arial, sans-serif; font-size: 12px; fill: rgb(42, 63, 95); fill-opacity: 1; white-space: pre; opacity: 1;\" transform=\"translate(0,304.23)\">15M</text></g><g class=\"ytick\"><text text-anchor=\"end\" x=\"79\" y=\"4.199999999999999\" style=\"font-family: 'Open Sans', verdana, arial, sans-serif; font-size: 12px; fill: rgb(42, 63, 95); fill-opacity: 1; white-space: pre; opacity: 1;\" transform=\"translate(0,265.64)\">20M</text></g><g class=\"ytick\"><text text-anchor=\"end\" x=\"79\" y=\"4.199999999999999\" style=\"font-family: 'Open Sans', verdana, arial, sans-serif; font-size: 12px; fill: rgb(42, 63, 95); fill-opacity: 1; white-space: pre; opacity: 1;\" transform=\"translate(0,227.04)\">25M</text></g><g class=\"ytick\"><text text-anchor=\"end\" x=\"79\" y=\"4.199999999999999\" style=\"font-family: 'Open Sans', verdana, arial, sans-serif; font-size: 12px; fill: rgb(42, 63, 95); fill-opacity: 1; white-space: pre; opacity: 1;\" transform=\"translate(0,188.45)\">30M</text></g><g class=\"ytick\"><text text-anchor=\"end\" x=\"79\" y=\"4.199999999999999\" style=\"font-family: 'Open Sans', verdana, arial, sans-serif; font-size: 12px; fill: rgb(42, 63, 95); fill-opacity: 1; white-space: pre; opacity: 1;\" transform=\"translate(0,149.86)\">35M</text></g><g class=\"ytick\"><text text-anchor=\"end\" x=\"79\" y=\"4.199999999999999\" style=\"font-family: 'Open Sans', verdana, arial, sans-serif; font-size: 12px; fill: rgb(42, 63, 95); fill-opacity: 1; white-space: pre; opacity: 1;\" transform=\"translate(0,111.27000000000001)\">40M</text></g><g class=\"ytick\"><text text-anchor=\"end\" x=\"79\" y=\"4.199999999999999\" style=\"font-family: 'Open Sans', verdana, arial, sans-serif; font-size: 12px; fill: rgb(42, 63, 95); fill-opacity: 1; white-space: pre; opacity: 1;\" transform=\"translate(0,72.68)\">45M</text></g></g><g class=\"overaxes-above\"/></g></g><g class=\"polarlayer\"/><g class=\"smithlayer\"/><g class=\"ternarylayer\"/><g class=\"geolayer\"/><g class=\"funnelarealayer\"/><g class=\"pielayer\"/><g class=\"iciclelayer\"/><g class=\"treemaplayer\"/><g class=\"sunburstlayer\"/><g class=\"glimages\"/><defs id=\"topdefs-107ee4\"><g class=\"clips\"/><clipPath id=\"legend107ee4\"><rect width=\"94\" height=\"67\" x=\"0\" y=\"0\"/></clipPath></defs><g class=\"layer-above\"><g class=\"imagelayer\"/><g class=\"shapelayer\"/></g><g class=\"infolayer\"><g class=\"legend\" pointer-events=\"all\" transform=\"translate(594.08,60)\"><rect class=\"bg\" shape-rendering=\"crispEdges\" width=\"94\" height=\"67\" x=\"0\" y=\"0\" style=\"stroke: rgb(68, 68, 68); stroke-opacity: 1; fill: rgb(255, 255, 255); fill-opacity: 1; stroke-width: 0px;\"/><g class=\"scrollbox\" transform=\"\" clip-path=\"url(#legend107ee4)\"><text class=\"legendtitletext\" text-anchor=\"start\" x=\"2\" y=\"18.2\" style=\"font-family: 'Open Sans', verdana, arial, sans-serif; font-size: 14px; fill: rgb(42, 63, 95); fill-opacity: 1; white-space: pre;\">Компания</text><g class=\"groups\" transform=\"\"><g class=\"traces\" transform=\"translate(0,32.7)\" style=\"opacity: 1;\"><text class=\"legendtext\" text-anchor=\"start\" x=\"40\" y=\"4.680000000000001\" style=\"font-family: 'Open Sans', verdana, arial, sans-serif; font-size: 12px; fill: rgb(42, 63, 95); fill-opacity: 1; white-space: pre;\">Игрок 2</text><g class=\"layers\" style=\"opacity: 1;\"><g class=\"legendfill\"/><g class=\"legendlines\"/><g class=\"legendsymbols\"><g class=\"legendpoints\"><path class=\"legendundefined\" d=\"M6,6H-6V-6H6Z\" transform=\"translate(20,0)\" style=\"stroke-width: 0.5px; fill: rgb(251, 180, 174); fill-opacity: 1; stroke: rgb(229, 236, 246); stroke-opacity: 1;\"/></g></g></g><rect class=\"legendtoggle\" x=\"0\" y=\"-9.5\" width=\"88.75\" height=\"19\" style=\"fill: rgb(0, 0, 0); fill-opacity: 0;\"/></g></g><g class=\"groups\" transform=\"\"><g class=\"traces\" transform=\"translate(0,51.7)\" style=\"opacity: 1;\"><text class=\"legendtext\" text-anchor=\"start\" x=\"40\" y=\"4.680000000000001\" style=\"font-family: 'Open Sans', verdana, arial, sans-serif; font-size: 12px; fill: rgb(42, 63, 95); fill-opacity: 1; white-space: pre;\">Игрок 1</text><g class=\"layers\" style=\"opacity: 1;\"><g class=\"legendfill\"/><g class=\"legendlines\"/><g class=\"legendsymbols\"><g class=\"legendpoints\"><path class=\"legendundefined\" d=\"M6,6H-6V-6H6Z\" transform=\"translate(20,0)\" style=\"stroke-width: 0.5px; fill: rgb(179, 205, 227); fill-opacity: 1; stroke: rgb(229, 236, 246); stroke-opacity: 1;\"/></g></g></g><rect class=\"legendtoggle\" x=\"0\" y=\"-9.5\" width=\"88.75\" height=\"19\" style=\"fill: rgb(0, 0, 0); fill-opacity: 0;\"/></g></g></g><rect class=\"scrollbar\" rx=\"20\" ry=\"3\" width=\"0\" height=\"0\" x=\"0\" y=\"0\" style=\"fill: rgb(128, 139, 164); fill-opacity: 1;\"/></g><g class=\"g-gtitle\"><text class=\"gtitle\" x=\"350\" y=\"30\" text-anchor=\"middle\" dy=\"0em\" style=\"font-family: 'Open Sans', verdana, arial, sans-serif; font-size: 17px; fill: rgb(42, 63, 95); opacity: 1; font-weight: normal; white-space: pre;\">Распределение количества контента по компаниям и категориям недвижимости</text></g><g class=\"g-xtitle\"><text class=\"xtitle\" x=\"332\" y=\"460.8\" text-anchor=\"middle\" style=\"font-family: 'Open Sans', verdana, arial, sans-serif; font-size: 14px; fill: rgb(42, 63, 95); opacity: 1; font-weight: normal; white-space: pre;\">Категория недвижимости</text></g><g class=\"g-ytitle\"><text class=\"ytitle\" transform=\"rotate(-90,28.825000000000003,240)\" x=\"28.825000000000003\" y=\"240\" text-anchor=\"middle\" style=\"font-family: 'Open Sans', verdana, arial, sans-serif; font-size: 14px; fill: rgb(42, 63, 95); opacity: 1; font-weight: normal; white-space: pre;\">Количество контента</text></g></g></svg>"
      ]
     },
     "metadata": {},
     "output_type": "display_data"
    }
   ],
   "source": [
    "# создание таблицы с общим количеством контента по компаниям и категориям недвижимости\n",
    "df_category = data.groupby(['Категория недвижимости', 'Компания'], as_index=False)['Контент'].sum().sort_values(by='Контент', ascending=False)\n",
    "\n",
    "# построение столбчатой диаграммы \n",
    "fig = px.bar(\n",
    "    df_category, \n",
    "    x='Категория недвижимости', \n",
    "    y='Контент',\n",
    "    color='Компания',\n",
    "    barmode='group',\n",
    "    color_discrete_sequence=px.colors.qualitative.Pastel1\n",
    ")\n",
    "\n",
    "fig.update_layout(\n",
    "    title='Распределение количества контента по компаниям и категориям недвижимости',\n",
    "    title_x=0.5,\n",
    "    xaxis_title='Категория недвижимости',\n",
    "    yaxis_title='Количество контента'\n",
    ")\n",
    "fig.show()"
   ]
  },
  {
   "cell_type": "markdown",
   "id": "e6823d88",
   "metadata": {},
   "source": [
    "Среди категорий недвижимости больше всего объявлений публикуется в городах и значительно меньше за городом."
   ]
  },
  {
   "cell_type": "markdown",
   "id": "ec6f04ad",
   "metadata": {},
   "source": [
    "### Анализ по сегментам клиентов"
   ]
  },
  {
   "cell_type": "code",
   "execution_count": 12,
   "id": "b96a27ca",
   "metadata": {},
   "outputs": [
    {
     "data": {
      "image/svg+xml": [
       "<svg class=\"main-svg\" xmlns=\"http://www.w3.org/2000/svg\" xmlns:xlink=\"http://www.w3.org/1999/xlink\" width=\"840\" height=\"600\" style=\"\" viewBox=\"0 0 700 500\"><rect x=\"0\" y=\"0\" width=\"700\" height=\"500\" style=\"fill: rgb(255, 255, 255); fill-opacity: 1;\"/><defs id=\"defs-25e4de\"><g class=\"clips\"><clipPath id=\"clip25e4dexyplot\" class=\"plotclip\"><rect width=\"504\" height=\"360\"/></clipPath><clipPath class=\"axesclip\" id=\"clip25e4dex\"><rect x=\"80\" y=\"0\" width=\"504\" height=\"500\"/></clipPath><clipPath class=\"axesclip\" id=\"clip25e4dey\"><rect x=\"0\" y=\"60\" width=\"700\" height=\"360\"/></clipPath><clipPath class=\"axesclip\" id=\"clip25e4dexy\"><rect x=\"80\" y=\"60\" width=\"504\" height=\"360\"/></clipPath></g><g class=\"gradients\"/><g class=\"patterns\"/></defs><g class=\"bglayer\"><rect class=\"bg\" x=\"80\" y=\"60\" width=\"504\" height=\"360\" style=\"fill: rgb(229, 236, 246); fill-opacity: 1; stroke-width: 0;\"/></g><g class=\"layer-below\"><g class=\"imagelayer\"/><g class=\"shapelayer\"/></g><g class=\"cartesianlayer\"><g class=\"subplot xy\"><g class=\"layer-subplot\"><g class=\"shapelayer\"/><g class=\"imagelayer\"/></g><g class=\"minor-gridlayer\"><g class=\"x\"/><g class=\"y\"/></g><g class=\"gridlayer\"><g class=\"x\"><path class=\"xgrid crisp\" transform=\"translate(181.13,0)\" d=\"M0,60v360\" style=\"stroke: rgb(255, 255, 255); stroke-opacity: 1; stroke-width: 1px;\"/><path class=\"xgrid crisp\" transform=\"translate(282.26,0)\" d=\"M0,60v360\" style=\"stroke: rgb(255, 255, 255); stroke-opacity: 1; stroke-width: 1px;\"/><path class=\"xgrid crisp\" transform=\"translate(383.38,0)\" d=\"M0,60v360\" style=\"stroke: rgb(255, 255, 255); stroke-opacity: 1; stroke-width: 1px;\"/><path class=\"xgrid crisp\" transform=\"translate(484.51,0)\" d=\"M0,60v360\" style=\"stroke: rgb(255, 255, 255); stroke-opacity: 1; stroke-width: 1px;\"/></g><g class=\"y\"/></g><g class=\"zerolinelayer\"><path class=\"xzl zl crisp\" transform=\"translate(80,0)\" d=\"M0,60v360\" style=\"stroke: rgb(255, 255, 255); stroke-opacity: 1; stroke-width: 2px;\"/></g><path class=\"xlines-below\"/><path class=\"ylines-below\"/><g class=\"overlines-below\"/><g class=\"xaxislayer-below\"/><g class=\"yaxislayer-below\"/><g class=\"overaxes-below\"/><g class=\"plot\" transform=\"translate(80,60)\" clip-path=\"url(#clip25e4dexyplot)\"><g class=\"barlayer mlayer\"><g class=\"trace bars\" style=\"opacity: 1;\"><g class=\"points\"><g class=\"point\"><path d=\"M0,348V252H203.59V348Z\" style=\"vector-effect: non-scaling-stroke; opacity: 1; stroke-width: 0.5px; fill: rgb(251, 180, 174); fill-opacity: 1; stroke: rgb(229, 236, 246); stroke-opacity: 1;\"/></g><g class=\"point\"><path d=\"M0,228V132H155.42V228Z\" style=\"vector-effect: non-scaling-stroke; opacity: 1; stroke-width: 0.5px; fill: rgb(251, 180, 174); fill-opacity: 1; stroke: rgb(229, 236, 246); stroke-opacity: 1;\"/></g><g class=\"point\"><path d=\"M0,108V12H164.02V108Z\" style=\"vector-effect: non-scaling-stroke; opacity: 1; stroke-width: 0.5px; fill: rgb(251, 180, 174); fill-opacity: 1; stroke: rgb(229, 236, 246); stroke-opacity: 1;\"/></g></g></g><g class=\"trace bars\" style=\"opacity: 1;\"><g class=\"points\"><g class=\"point\"><path d=\"M203.59,348V252H283.27V348Z\" style=\"vector-effect: non-scaling-stroke; opacity: 1; stroke-width: 0.5px; fill: rgb(179, 205, 227); fill-opacity: 1; stroke: rgb(229, 236, 246); stroke-opacity: 1;\"/></g><g class=\"point\"><path d=\"M155.42,228V132H285.98V228Z\" style=\"vector-effect: non-scaling-stroke; opacity: 1; stroke-width: 0.5px; fill: rgb(179, 205, 227); fill-opacity: 1; stroke: rgb(229, 236, 246); stroke-opacity: 1;\"/></g><g class=\"point\"><path d=\"M164.02,108V12H478.8V108Z\" style=\"vector-effect: non-scaling-stroke; opacity: 1; stroke-width: 0.5px; fill: rgb(179, 205, 227); fill-opacity: 1; stroke: rgb(229, 236, 246); stroke-opacity: 1;\"/></g></g></g></g></g><g class=\"overplot\"/><path class=\"xlines-above crisp\" d=\"M0,0\" style=\"fill: none;\"/><path class=\"ylines-above crisp\" d=\"M0,0\" style=\"fill: none;\"/><g class=\"overlines-above\"/><g class=\"xaxislayer-above\"><g class=\"xtick\"><text text-anchor=\"middle\" x=\"0\" y=\"433\" transform=\"translate(80,0)\" style=\"font-family: 'Open Sans', verdana, arial, sans-serif; font-size: 12px; fill: rgb(42, 63, 95); fill-opacity: 1; white-space: pre; opacity: 1;\">0</text></g><g class=\"xtick\"><text text-anchor=\"middle\" x=\"0\" y=\"433\" style=\"font-family: 'Open Sans', verdana, arial, sans-serif; font-size: 12px; fill: rgb(42, 63, 95); fill-opacity: 1; white-space: pre; opacity: 1;\" transform=\"translate(181.13,0)\">10M</text></g><g class=\"xtick\"><text text-anchor=\"middle\" x=\"0\" y=\"433\" style=\"font-family: 'Open Sans', verdana, arial, sans-serif; font-size: 12px; fill: rgb(42, 63, 95); fill-opacity: 1; white-space: pre; opacity: 1;\" transform=\"translate(282.26,0)\">20M</text></g><g class=\"xtick\"><text text-anchor=\"middle\" x=\"0\" y=\"433\" style=\"font-family: 'Open Sans', verdana, arial, sans-serif; font-size: 12px; fill: rgb(42, 63, 95); fill-opacity: 1; white-space: pre; opacity: 1;\" transform=\"translate(383.38,0)\">30M</text></g><g class=\"xtick\"><text text-anchor=\"middle\" x=\"0\" y=\"433\" style=\"font-family: 'Open Sans', verdana, arial, sans-serif; font-size: 12px; fill: rgb(42, 63, 95); fill-opacity: 1; white-space: pre; opacity: 1;\" transform=\"translate(484.51,0)\">40M</text></g></g><g class=\"yaxislayer-above\"><g class=\"ytick\"><text text-anchor=\"end\" x=\"79\" y=\"4.199999999999999\" transform=\"translate(0,360)\" style=\"font-family: 'Open Sans', verdana, arial, sans-serif; font-size: 12px; fill: rgb(42, 63, 95); fill-opacity: 1; white-space: pre; opacity: 1;\">Owner</text></g><g class=\"ytick\"><text text-anchor=\"end\" x=\"79\" y=\"4.199999999999999\" transform=\"translate(0,240)\" style=\"font-family: 'Open Sans', verdana, arial, sans-serif; font-size: 12px; fill: rgb(42, 63, 95); fill-opacity: 1; white-space: pre; opacity: 1;\">SMB</text></g><g class=\"ytick\"><text text-anchor=\"end\" x=\"79\" y=\"4.199999999999999\" transform=\"translate(0,120)\" style=\"font-family: 'Open Sans', verdana, arial, sans-serif; font-size: 12px; fill: rgb(42, 63, 95); fill-opacity: 1; white-space: pre; opacity: 1;\">АН</text></g></g><g class=\"overaxes-above\"/></g></g><g class=\"polarlayer\"/><g class=\"smithlayer\"/><g class=\"ternarylayer\"/><g class=\"geolayer\"/><g class=\"funnelarealayer\"/><g class=\"pielayer\"/><g class=\"iciclelayer\"/><g class=\"treemaplayer\"/><g class=\"sunburstlayer\"/><g class=\"glimages\"/><defs id=\"topdefs-25e4de\"><g class=\"clips\"/><clipPath id=\"legend25e4de\"><rect width=\"94\" height=\"67\" x=\"0\" y=\"0\"/></clipPath></defs><g class=\"layer-above\"><g class=\"imagelayer\"/><g class=\"shapelayer\"/></g><g class=\"infolayer\"><g class=\"legend\" pointer-events=\"all\" transform=\"translate(594.08,60)\"><rect class=\"bg\" shape-rendering=\"crispEdges\" width=\"94\" height=\"67\" x=\"0\" y=\"0\" style=\"stroke: rgb(68, 68, 68); stroke-opacity: 1; fill: rgb(255, 255, 255); fill-opacity: 1; stroke-width: 0px;\"/><g class=\"scrollbox\" transform=\"\" clip-path=\"url(#legend25e4de)\"><text class=\"legendtitletext\" text-anchor=\"start\" x=\"2\" y=\"18.2\" style=\"font-family: 'Open Sans', verdana, arial, sans-serif; font-size: 14px; fill: rgb(42, 63, 95); fill-opacity: 1; white-space: pre;\">Компания</text><g class=\"groups\" transform=\"\"><g class=\"traces\" transform=\"translate(0,32.7)\" style=\"opacity: 1;\"><text class=\"legendtext\" text-anchor=\"start\" x=\"40\" y=\"4.680000000000001\" style=\"font-family: 'Open Sans', verdana, arial, sans-serif; font-size: 12px; fill: rgb(42, 63, 95); fill-opacity: 1; white-space: pre;\">Игрок 1</text><g class=\"layers\" style=\"opacity: 1;\"><g class=\"legendfill\"/><g class=\"legendlines\"/><g class=\"legendsymbols\"><g class=\"legendpoints\"><path class=\"legendundefined\" d=\"M6,6H-6V-6H6Z\" transform=\"translate(20,0)\" style=\"stroke-width: 0.5px; fill: rgb(251, 180, 174); fill-opacity: 1; stroke: rgb(229, 236, 246); stroke-opacity: 1;\"/></g></g></g><rect class=\"legendtoggle\" x=\"0\" y=\"-9.5\" width=\"88.75\" height=\"19\" style=\"fill: rgb(0, 0, 0); fill-opacity: 0;\"/></g></g><g class=\"groups\" transform=\"\"><g class=\"traces\" transform=\"translate(0,51.7)\" style=\"opacity: 1;\"><text class=\"legendtext\" text-anchor=\"start\" x=\"40\" y=\"4.680000000000001\" style=\"font-family: 'Open Sans', verdana, arial, sans-serif; font-size: 12px; fill: rgb(42, 63, 95); fill-opacity: 1; white-space: pre;\">Игрок 2</text><g class=\"layers\" style=\"opacity: 1;\"><g class=\"legendfill\"/><g class=\"legendlines\"/><g class=\"legendsymbols\"><g class=\"legendpoints\"><path class=\"legendundefined\" d=\"M6,6H-6V-6H6Z\" transform=\"translate(20,0)\" style=\"stroke-width: 0.5px; fill: rgb(179, 205, 227); fill-opacity: 1; stroke: rgb(229, 236, 246); stroke-opacity: 1;\"/></g></g></g><rect class=\"legendtoggle\" x=\"0\" y=\"-9.5\" width=\"88.75\" height=\"19\" style=\"fill: rgb(0, 0, 0); fill-opacity: 0;\"/></g></g></g><rect class=\"scrollbar\" rx=\"20\" ry=\"3\" width=\"0\" height=\"0\" x=\"0\" y=\"0\" style=\"fill: rgb(128, 139, 164); fill-opacity: 1;\"/></g><g class=\"g-gtitle\"><text class=\"gtitle\" x=\"350\" y=\"30\" text-anchor=\"middle\" dy=\"0em\" style=\"font-family: 'Open Sans', verdana, arial, sans-serif; font-size: 17px; fill: rgb(42, 63, 95); opacity: 1; font-weight: normal; white-space: pre;\">Распределение количества контента по компаниям и сегментам клиентов</text></g><g class=\"g-xtitle\"><text class=\"xtitle\" x=\"332\" y=\"460.8\" text-anchor=\"middle\" style=\"font-family: 'Open Sans', verdana, arial, sans-serif; font-size: 14px; fill: rgb(42, 63, 95); opacity: 1; font-weight: normal; white-space: pre;\">Сегмент клиентов</text></g><g class=\"g-ytitle\"><text class=\"ytitle\" transform=\"rotate(-90,15.059375000000003,240)\" x=\"15.059375000000003\" y=\"240\" text-anchor=\"middle\" style=\"font-family: 'Open Sans', verdana, arial, sans-serif; font-size: 14px; fill: rgb(42, 63, 95); opacity: 1; font-weight: normal; white-space: pre;\">Количество контента</text></g></g></svg>"
      ]
     },
     "metadata": {},
     "output_type": "display_data"
    }
   ],
   "source": [
    "# создание таблицы с общим количеством контента по компаниям и сегментам\n",
    "df_segment = data.groupby(['Сегмент', 'Компания'], as_index=False)['Контент'].sum()\n",
    "\n",
    "# построение столбчатой диаграммы \n",
    "fig = px.bar(\n",
    "    df_segment, \n",
    "    x='Контент', \n",
    "    y='Сегмент',\n",
    "    color='Компания',\n",
    "    color_discrete_sequence=px.colors.qualitative.Pastel1\n",
    ")\n",
    "\n",
    "fig.update_layout(\n",
    "    title='Распределение количества контента по компаниям и сегментам клиентов',\n",
    "    title_x=0.5,\n",
    "    xaxis_title='Сегмент клиентов',\n",
    "    yaxis_title='Количество контента'\n",
    ")\n",
    "fig.show()"
   ]
  },
  {
   "cell_type": "markdown",
   "id": "62cae7bd",
   "metadata": {},
   "source": [
    "Лидером среди сегментов является AH, в нем большую долю занимает Игрок 2. В сегментах малого и среднего бизнеса, а также среди собственников первое место по количеству объявлений принадлежит Игроку 1."
   ]
  },
  {
   "cell_type": "markdown",
   "id": "6d13f7f5",
   "metadata": {},
   "source": [
    "### Анализ в динамике"
   ]
  },
  {
   "cell_type": "code",
   "execution_count": 13,
   "id": "d07f4336",
   "metadata": {},
   "outputs": [
    {
     "data": {
      "image/svg+xml": [
       "<svg class=\"main-svg\" xmlns=\"http://www.w3.org/2000/svg\" xmlns:xlink=\"http://www.w3.org/1999/xlink\" width=\"840\" height=\"600\" style=\"\" viewBox=\"0 0 700 500\"><rect x=\"0\" y=\"0\" width=\"700\" height=\"500\" style=\"fill: rgb(255, 255, 255); fill-opacity: 1;\"/><defs id=\"defs-c1ff4a\"><g class=\"clips\"><clipPath id=\"clipc1ff4axyplot\" class=\"plotclip\"><rect width=\"504\" height=\"216\"/></clipPath><clipPath class=\"axesclip\" id=\"clipc1ff4ax\"><rect x=\"80\" y=\"0\" width=\"504\" height=\"500\"/></clipPath><clipPath class=\"axesclip\" id=\"clipc1ff4ay\"><rect x=\"0\" y=\"60\" width=\"700\" height=\"216\"/></clipPath><clipPath class=\"axesclip\" id=\"clipc1ff4axy\"><rect x=\"80\" y=\"60\" width=\"504\" height=\"216\"/></clipPath></g><g class=\"gradients\"/><g class=\"patterns\"/></defs><g class=\"bglayer\"><rect class=\"bg\" x=\"80\" y=\"60\" width=\"504\" height=\"216\" style=\"fill: rgb(229, 236, 246); fill-opacity: 1; stroke-width: 0;\"/></g><g class=\"layer-below\"><g class=\"imagelayer\"/><g class=\"shapelayer\"/></g><g class=\"cartesianlayer\"><g class=\"subplot xy\"><g class=\"layer-subplot\"><g class=\"shapelayer\"/><g class=\"imagelayer\"/></g><g class=\"minor-gridlayer\"><g class=\"x\"/><g class=\"y\"/></g><g class=\"gridlayer\"><g class=\"x\"><path class=\"xgrid crisp\" transform=\"translate(95.59,0)\" d=\"M0,60v216\" style=\"stroke: rgb(255, 255, 255); stroke-opacity: 1; stroke-width: 1px;\"/><path class=\"xgrid crisp\" transform=\"translate(111.18,0)\" d=\"M0,60v216\" style=\"stroke: rgb(255, 255, 255); stroke-opacity: 1; stroke-width: 1px;\"/><path class=\"xgrid crisp\" transform=\"translate(126.75999999999999,0)\" d=\"M0,60v216\" style=\"stroke: rgb(255, 255, 255); stroke-opacity: 1; stroke-width: 1px;\"/><path class=\"xgrid crisp\" transform=\"translate(142.35,0)\" d=\"M0,60v216\" style=\"stroke: rgb(255, 255, 255); stroke-opacity: 1; stroke-width: 1px;\"/><path class=\"xgrid crisp\" transform=\"translate(157.94,0)\" d=\"M0,60v216\" style=\"stroke: rgb(255, 255, 255); stroke-opacity: 1; stroke-width: 1px;\"/><path class=\"xgrid crisp\" transform=\"translate(173.53,0)\" d=\"M0,60v216\" style=\"stroke: rgb(255, 255, 255); stroke-opacity: 1; stroke-width: 1px;\"/><path class=\"xgrid crisp\" transform=\"translate(189.11,0)\" d=\"M0,60v216\" style=\"stroke: rgb(255, 255, 255); stroke-opacity: 1; stroke-width: 1px;\"/><path class=\"xgrid crisp\" transform=\"translate(204.7,0)\" d=\"M0,60v216\" style=\"stroke: rgb(255, 255, 255); stroke-opacity: 1; stroke-width: 1px;\"/><path class=\"xgrid crisp\" transform=\"translate(220.29,0)\" d=\"M0,60v216\" style=\"stroke: rgb(255, 255, 255); stroke-opacity: 1; stroke-width: 1px;\"/><path class=\"xgrid crisp\" transform=\"translate(235.88,0)\" d=\"M0,60v216\" style=\"stroke: rgb(255, 255, 255); stroke-opacity: 1; stroke-width: 1px;\"/><path class=\"xgrid crisp\" transform=\"translate(251.46,0)\" d=\"M0,60v216\" style=\"stroke: rgb(255, 255, 255); stroke-opacity: 1; stroke-width: 1px;\"/><path class=\"xgrid crisp\" transform=\"translate(267.05,0)\" d=\"M0,60v216\" style=\"stroke: rgb(255, 255, 255); stroke-opacity: 1; stroke-width: 1px;\"/><path class=\"xgrid crisp\" transform=\"translate(282.64,0)\" d=\"M0,60v216\" style=\"stroke: rgb(255, 255, 255); stroke-opacity: 1; stroke-width: 1px;\"/><path class=\"xgrid crisp\" transform=\"translate(298.23,0)\" d=\"M0,60v216\" style=\"stroke: rgb(255, 255, 255); stroke-opacity: 1; stroke-width: 1px;\"/><path class=\"xgrid crisp\" transform=\"translate(313.81,0)\" d=\"M0,60v216\" style=\"stroke: rgb(255, 255, 255); stroke-opacity: 1; stroke-width: 1px;\"/><path class=\"xgrid crisp\" transform=\"translate(329.4,0)\" d=\"M0,60v216\" style=\"stroke: rgb(255, 255, 255); stroke-opacity: 1; stroke-width: 1px;\"/><path class=\"xgrid crisp\" transform=\"translate(344.99,0)\" d=\"M0,60v216\" style=\"stroke: rgb(255, 255, 255); stroke-opacity: 1; stroke-width: 1px;\"/><path class=\"xgrid crisp\" transform=\"translate(360.58,0)\" d=\"M0,60v216\" style=\"stroke: rgb(255, 255, 255); stroke-opacity: 1; stroke-width: 1px;\"/><path class=\"xgrid crisp\" transform=\"translate(376.16,0)\" d=\"M0,60v216\" style=\"stroke: rgb(255, 255, 255); stroke-opacity: 1; stroke-width: 1px;\"/><path class=\"xgrid crisp\" transform=\"translate(391.75,0)\" d=\"M0,60v216\" style=\"stroke: rgb(255, 255, 255); stroke-opacity: 1; stroke-width: 1px;\"/><path class=\"xgrid crisp\" transform=\"translate(407.34,0)\" d=\"M0,60v216\" style=\"stroke: rgb(255, 255, 255); stroke-opacity: 1; stroke-width: 1px;\"/><path class=\"xgrid crisp\" transform=\"translate(422.93,0)\" d=\"M0,60v216\" style=\"stroke: rgb(255, 255, 255); stroke-opacity: 1; stroke-width: 1px;\"/><path class=\"xgrid crisp\" transform=\"translate(438.52,0)\" d=\"M0,60v216\" style=\"stroke: rgb(255, 255, 255); stroke-opacity: 1; stroke-width: 1px;\"/><path class=\"xgrid crisp\" transform=\"translate(454.1,0)\" d=\"M0,60v216\" style=\"stroke: rgb(255, 255, 255); stroke-opacity: 1; stroke-width: 1px;\"/><path class=\"xgrid crisp\" transform=\"translate(469.69,0)\" d=\"M0,60v216\" style=\"stroke: rgb(255, 255, 255); stroke-opacity: 1; stroke-width: 1px;\"/><path class=\"xgrid crisp\" transform=\"translate(485.28,0)\" d=\"M0,60v216\" style=\"stroke: rgb(255, 255, 255); stroke-opacity: 1; stroke-width: 1px;\"/><path class=\"xgrid crisp\" transform=\"translate(500.87,0)\" d=\"M0,60v216\" style=\"stroke: rgb(255, 255, 255); stroke-opacity: 1; stroke-width: 1px;\"/><path class=\"xgrid crisp\" transform=\"translate(516.45,0)\" d=\"M0,60v216\" style=\"stroke: rgb(255, 255, 255); stroke-opacity: 1; stroke-width: 1px;\"/><path class=\"xgrid crisp\" transform=\"translate(532.04,0)\" d=\"M0,60v216\" style=\"stroke: rgb(255, 255, 255); stroke-opacity: 1; stroke-width: 1px;\"/><path class=\"xgrid crisp\" transform=\"translate(547.63,0)\" d=\"M0,60v216\" style=\"stroke: rgb(255, 255, 255); stroke-opacity: 1; stroke-width: 1px;\"/><path class=\"xgrid crisp\" transform=\"translate(563.22,0)\" d=\"M0,60v216\" style=\"stroke: rgb(255, 255, 255); stroke-opacity: 1; stroke-width: 1px;\"/><path class=\"xgrid crisp\" transform=\"translate(578.8,0)\" d=\"M0,60v216\" style=\"stroke: rgb(255, 255, 255); stroke-opacity: 1; stroke-width: 1px;\"/></g><g class=\"y\"><path class=\"ygrid crisp\" transform=\"translate(0,268.97)\" d=\"M80,0h504\" style=\"stroke: rgb(255, 255, 255); stroke-opacity: 1; stroke-width: 1px;\"/><path class=\"ygrid crisp\" transform=\"translate(0,233.53)\" d=\"M80,0h504\" style=\"stroke: rgb(255, 255, 255); stroke-opacity: 1; stroke-width: 1px;\"/><path class=\"ygrid crisp\" transform=\"translate(0,198.08)\" d=\"M80,0h504\" style=\"stroke: rgb(255, 255, 255); stroke-opacity: 1; stroke-width: 1px;\"/><path class=\"ygrid crisp\" transform=\"translate(0,162.64)\" d=\"M80,0h504\" style=\"stroke: rgb(255, 255, 255); stroke-opacity: 1; stroke-width: 1px;\"/><path class=\"ygrid crisp\" transform=\"translate(0,127.19)\" d=\"M80,0h504\" style=\"stroke: rgb(255, 255, 255); stroke-opacity: 1; stroke-width: 1px;\"/><path class=\"ygrid crisp\" transform=\"translate(0,91.74)\" d=\"M80,0h504\" style=\"stroke: rgb(255, 255, 255); stroke-opacity: 1; stroke-width: 1px;\"/></g></g><g class=\"zerolinelayer\"/><path class=\"xlines-below\"/><path class=\"ylines-below\"/><g class=\"overlines-below\"/><g class=\"xaxislayer-below\"/><g class=\"yaxislayer-below\"/><g class=\"overaxes-below\"/><g class=\"plot\" transform=\"translate(80,60)\" clip-path=\"url(#clipc1ff4axyplot)\"><g class=\"scatterlayer mlayer\"><g class=\"trace scatter trace1bc42b\" style=\"stroke-miterlimit: 2; opacity: 1;\"><g class=\"fills\"/><g class=\"errorbars\"/><g class=\"lines\"><path class=\"js-line\" d=\"M0,89L5.2,87.65L10.39,75.34L15.59,62.93L20.78,40.23L25.98,33.22L31.18,45.68L36.37,138.16L41.57,52.94L46.76,50.81L51.96,53.47L57.15,46.34L62.35,41.39L67.55,39.16L72.74,35.3L83.13,29.6L88.33,37.34L93.53,72.64L98.72,149.82L103.92,205.2L109.11,27.87L114.31,33.93L119.51,37.63L124.7,38.26L129.9,40.73L135.09,84.07L140.29,88.82L145.48,105.72L150.68,98.17L155.88,121.13L161.07,102.82L171.46,111.42L176.66,81.55L181.86,84.6L187.05,85.79L192.25,88.66L197.44,90.63L202.64,94.53L207.84,96.66L213.03,96.45L218.23,97.86L223.42,99.35L228.62,97.88L233.81,99.1L239.01,99.4L244.21,108.48L249.4,102.25L254.6,107.55L259.79,119L264.99,146.68L270.19,153.25L275.38,159.4L280.58,129.4L285.77,132.23L290.97,99.18L296.16,104.39L301.36,124.94L306.56,136.26L311.75,108.49L316.95,112.9L322.14,126.13L327.34,86.05L332.54,105.61L337.73,81.57L342.93,76.51L348.12,96.45L353.32,75.42L358.52,85.65L363.71,98.87L374.1,61.66L379.3,44.35L384.49,45.68L389.69,66.01L394.89,57.54L400.08,51.71L405.28,56.69L410.47,65.73L415.67,60.67L420.87,80.89L426.06,89.74L431.26,63.13L436.45,96.01L441.65,74.88L446.85,79.41L452.04,69.68L457.24,75.94L462.43,103.85L467.63,79.45L472.82,78.62L478.02,27.69L483.22,28.56L488.41,57.32L493.61,77.44L498.8,76.32L504,76.88\" style=\"vector-effect: non-scaling-stroke; fill: none; stroke: rgb(251, 180, 174); stroke-opacity: 1; stroke-width: 2px; opacity: 1;\"/></g><g class=\"points\"/><g class=\"text\"/></g><g class=\"trace scatter trace11cb1b\" style=\"stroke-miterlimit: 2; opacity: 1;\"><g class=\"fills\"/><g class=\"errorbars\"/><g class=\"lines\"><path class=\"js-line\" d=\"M0,143.97L10.39,86.43L15.59,73.83L20.78,65.98L25.98,62.06L31.18,59.2L36.37,61.02L41.57,57.67L46.76,67.79L57.15,48.5L62.35,50.78L72.74,44.35L77.94,44.01L83.13,38.58L88.33,49.33L93.53,43.73L98.72,28.22L103.92,20.01L109.11,18.52L114.31,18.5L119.51,10.8L129.9,20.23L135.09,15.97L140.29,26.49L145.48,27.96L150.68,28.11L155.88,29.47L166.27,33.44L171.46,38.37L176.66,38.86L181.86,41.82L192.25,51.14L197.44,63.26L202.64,74.67L207.84,126.4L213.03,116.93L218.23,103.25L223.42,104.73L228.62,89.87L233.81,89.04L239.01,99.17L244.21,99.95L249.4,106.84L254.6,113.79L259.79,134.37L264.99,177.82L270.19,162.99L275.38,144.79L280.58,131.37L290.97,113.76L296.16,108.48L301.36,103.81L306.56,105.01L311.75,110.66L316.95,103.94L322.14,98.36L327.34,97.8L332.54,97.84L337.73,96.81L342.93,97.83L348.12,97.31L353.32,109.87L358.52,108.63L363.71,99.93L368.91,84.12L379.3,87.53L384.49,86.17L389.69,82.97L394.89,83.99L400.08,87.09L405.28,88.86L410.47,85.27L415.67,86.31L420.87,91.24L426.06,94.12L431.26,108.64L436.45,96L441.65,97.71L446.85,94.52L452.04,92.87L457.24,90.21L462.43,90.12L467.63,107.74L472.82,114.71L478.02,112.27L483.22,111.29L488.41,114.53L493.61,117.68L498.8,113.67L504,116.26\" style=\"vector-effect: non-scaling-stroke; fill: none; stroke: rgb(179, 205, 227); stroke-opacity: 1; stroke-width: 2px; opacity: 1;\"/></g><g class=\"points\"/><g class=\"text\"/></g></g></g><g class=\"overplot\"/><path class=\"xlines-above crisp\" d=\"M0,0\" style=\"fill: none;\"/><path class=\"ylines-above crisp\" d=\"M0,0\" style=\"fill: none;\"/><g class=\"overlines-above\"/><g class=\"xaxislayer-above\"><g class=\"xtick\"><text text-anchor=\"start\" x=\"0\" y=\"289\" transform=\"translate(80,0) rotate(90,0,283)\" style=\"font-family: 'Open Sans', verdana, arial, sans-serif; font-size: 12px; fill: rgb(42, 63, 95); fill-opacity: 1; white-space: pre; opacity: 1;\">С 2018-01-01 до 2018-01-07</text></g><g class=\"xtick\"><text text-anchor=\"start\" x=\"0\" y=\"289\" transform=\"translate(95.59,0) rotate(90,0,283)\" style=\"font-family: 'Open Sans', verdana, arial, sans-serif; font-size: 12px; fill: rgb(42, 63, 95); fill-opacity: 1; white-space: pre; opacity: 1;\">С 2018-01-22 до 2018-01-28</text></g><g class=\"xtick\"><text text-anchor=\"start\" x=\"0\" y=\"289\" transform=\"translate(111.18,0) rotate(90,0,283)\" style=\"font-family: 'Open Sans', verdana, arial, sans-serif; font-size: 12px; fill: rgb(42, 63, 95); fill-opacity: 1; white-space: pre; opacity: 1;\">С 2018-02-12 до 2018-02-18</text></g><g class=\"xtick\"><text text-anchor=\"start\" x=\"0\" y=\"289\" transform=\"translate(126.75999999999999,0) rotate(90,0,283)\" style=\"font-family: 'Open Sans', verdana, arial, sans-serif; font-size: 12px; fill: rgb(42, 63, 95); fill-opacity: 1; white-space: pre; opacity: 1;\">С 2018-03-05 до 2018-03-11</text></g><g class=\"xtick\"><text text-anchor=\"start\" x=\"0\" y=\"289\" transform=\"translate(142.35,0) rotate(90,0,283)\" style=\"font-family: 'Open Sans', verdana, arial, sans-serif; font-size: 12px; fill: rgb(42, 63, 95); fill-opacity: 1; white-space: pre; opacity: 1;\">С 2018-03-26 до 2018-04-01</text></g><g class=\"xtick\"><text text-anchor=\"start\" x=\"0\" y=\"289\" transform=\"translate(157.94,0) rotate(90,0,283)\" style=\"font-family: 'Open Sans', verdana, arial, sans-serif; font-size: 12px; fill: rgb(42, 63, 95); fill-opacity: 1; white-space: pre; opacity: 1;\">С 2018-04-16 до 2018-04-22</text></g><g class=\"xtick\"><text text-anchor=\"start\" x=\"0\" y=\"289\" transform=\"translate(173.53,0) rotate(90,0,283)\" style=\"font-family: 'Open Sans', verdana, arial, sans-serif; font-size: 12px; fill: rgb(42, 63, 95); fill-opacity: 1; white-space: pre; opacity: 1;\">С 2018-05-07 до 2018-05-13</text></g><g class=\"xtick\"><text text-anchor=\"start\" x=\"0\" y=\"289\" transform=\"translate(189.11,0) rotate(90,0,283)\" style=\"font-family: 'Open Sans', verdana, arial, sans-serif; font-size: 12px; fill: rgb(42, 63, 95); fill-opacity: 1; white-space: pre; opacity: 1;\">С 2018-06-04 до 2018-06-10</text></g><g class=\"xtick\"><text text-anchor=\"start\" x=\"0\" y=\"289\" transform=\"translate(204.7,0) rotate(90,0,283)\" style=\"font-family: 'Open Sans', verdana, arial, sans-serif; font-size: 12px; fill: rgb(42, 63, 95); fill-opacity: 1; white-space: pre; opacity: 1;\">С 2018-06-25 до 2018-07-01</text></g><g class=\"xtick\"><text text-anchor=\"start\" x=\"0\" y=\"289\" transform=\"translate(220.29,0) rotate(90,0,283)\" style=\"font-family: 'Open Sans', verdana, arial, sans-serif; font-size: 12px; fill: rgb(42, 63, 95); fill-opacity: 1; white-space: pre; opacity: 1;\">С 2018-07-16 до 2018-07-22</text></g><g class=\"xtick\"><text text-anchor=\"start\" x=\"0\" y=\"289\" transform=\"translate(235.88,0) rotate(90,0,283)\" style=\"font-family: 'Open Sans', verdana, arial, sans-serif; font-size: 12px; fill: rgb(42, 63, 95); fill-opacity: 1; white-space: pre; opacity: 1;\">С 2018-08-06 до 2018-08-12</text></g><g class=\"xtick\"><text text-anchor=\"start\" x=\"0\" y=\"289\" transform=\"translate(251.46,0) rotate(90,0,283)\" style=\"font-family: 'Open Sans', verdana, arial, sans-serif; font-size: 12px; fill: rgb(42, 63, 95); fill-opacity: 1; white-space: pre; opacity: 1;\">С 2018-08-27 до 2018-09-02</text></g><g class=\"xtick\"><text text-anchor=\"start\" x=\"0\" y=\"289\" transform=\"translate(267.05,0) rotate(90,0,283)\" style=\"font-family: 'Open Sans', verdana, arial, sans-serif; font-size: 12px; fill: rgb(42, 63, 95); fill-opacity: 1; white-space: pre; opacity: 1;\">С 2018-09-17 до 2018-09-23</text></g><g class=\"xtick\"><text text-anchor=\"start\" x=\"0\" y=\"289\" transform=\"translate(282.64,0) rotate(90,0,283)\" style=\"font-family: 'Open Sans', verdana, arial, sans-serif; font-size: 12px; fill: rgb(42, 63, 95); fill-opacity: 1; white-space: pre; opacity: 1;\">С 2018-10-08 до 2018-10-14</text></g><g class=\"xtick\"><text text-anchor=\"start\" x=\"0\" y=\"289\" transform=\"translate(298.23,0) rotate(90,0,283)\" style=\"font-family: 'Open Sans', verdana, arial, sans-serif; font-size: 12px; fill: rgb(42, 63, 95); fill-opacity: 1; white-space: pre; opacity: 1;\">С 2018-10-29 до 2018-11-04</text></g><g class=\"xtick\"><text text-anchor=\"start\" x=\"0\" y=\"289\" transform=\"translate(313.81,0) rotate(90,0,283)\" style=\"font-family: 'Open Sans', verdana, arial, sans-serif; font-size: 12px; fill: rgb(42, 63, 95); fill-opacity: 1; white-space: pre; opacity: 1;\">С 2018-11-19 до 2018-11-25</text></g><g class=\"xtick\"><text text-anchor=\"start\" x=\"0\" y=\"289\" transform=\"translate(329.4,0) rotate(90,0,283)\" style=\"font-family: 'Open Sans', verdana, arial, sans-serif; font-size: 12px; fill: rgb(42, 63, 95); fill-opacity: 1; white-space: pre; opacity: 1;\">С 2018-12-10 до 2018-12-16</text></g><g class=\"xtick\"><text text-anchor=\"start\" x=\"0\" y=\"289\" transform=\"translate(344.99,0) rotate(90,0,283)\" style=\"font-family: 'Open Sans', verdana, arial, sans-serif; font-size: 12px; fill: rgb(42, 63, 95); fill-opacity: 1; white-space: pre; opacity: 1;\">С 2018-12-31 до 2019-01-06</text></g><g class=\"xtick\"><text text-anchor=\"start\" x=\"0\" y=\"289\" transform=\"translate(360.58,0) rotate(90,0,283)\" style=\"font-family: 'Open Sans', verdana, arial, sans-serif; font-size: 12px; fill: rgb(42, 63, 95); fill-opacity: 1; white-space: pre; opacity: 1;\">С 2019-01-21 до 2019-01-27</text></g><g class=\"xtick\"><text text-anchor=\"start\" x=\"0\" y=\"289\" transform=\"translate(376.16,0) rotate(90,0,283)\" style=\"font-family: 'Open Sans', verdana, arial, sans-serif; font-size: 12px; fill: rgb(42, 63, 95); fill-opacity: 1; white-space: pre; opacity: 1;\">С 2019-02-11 до 2019-02-17</text></g><g class=\"xtick\"><text text-anchor=\"start\" x=\"0\" y=\"289\" transform=\"translate(391.75,0) rotate(90,0,283)\" style=\"font-family: 'Open Sans', verdana, arial, sans-serif; font-size: 12px; fill: rgb(42, 63, 95); fill-opacity: 1; white-space: pre; opacity: 1;\">С 2019-03-04 до 2019-03-10</text></g><g class=\"xtick\"><text text-anchor=\"start\" x=\"0\" y=\"289\" transform=\"translate(407.34,0) rotate(90,0,283)\" style=\"font-family: 'Open Sans', verdana, arial, sans-serif; font-size: 12px; fill: rgb(42, 63, 95); fill-opacity: 1; white-space: pre; opacity: 1;\">С 2019-03-25 до 2019-03-31</text></g><g class=\"xtick\"><text text-anchor=\"start\" x=\"0\" y=\"289\" transform=\"translate(422.93,0) rotate(90,0,283)\" style=\"font-family: 'Open Sans', verdana, arial, sans-serif; font-size: 12px; fill: rgb(42, 63, 95); fill-opacity: 1; white-space: pre; opacity: 1;\">С 2019-04-15 до 2019-04-21</text></g><g class=\"xtick\"><text text-anchor=\"start\" x=\"0\" y=\"289\" transform=\"translate(438.52,0) rotate(90,0,283)\" style=\"font-family: 'Open Sans', verdana, arial, sans-serif; font-size: 12px; fill: rgb(42, 63, 95); fill-opacity: 1; white-space: pre; opacity: 1;\">С 2019-05-06 до 2019-05-12</text></g><g class=\"xtick\"><text text-anchor=\"start\" x=\"0\" y=\"289\" transform=\"translate(454.1,0) rotate(90,0,283)\" style=\"font-family: 'Open Sans', verdana, arial, sans-serif; font-size: 12px; fill: rgb(42, 63, 95); fill-opacity: 1; white-space: pre; opacity: 1;\">С 2019-05-27 до 2019-06-02</text></g><g class=\"xtick\"><text text-anchor=\"start\" x=\"0\" y=\"289\" transform=\"translate(469.69,0) rotate(90,0,283)\" style=\"font-family: 'Open Sans', verdana, arial, sans-serif; font-size: 12px; fill: rgb(42, 63, 95); fill-opacity: 1; white-space: pre; opacity: 1;\">С 2019-06-17 до 2019-06-23</text></g><g class=\"xtick\"><text text-anchor=\"start\" x=\"0\" y=\"289\" transform=\"translate(485.28,0) rotate(90,0,283)\" style=\"font-family: 'Open Sans', verdana, arial, sans-serif; font-size: 12px; fill: rgb(42, 63, 95); fill-opacity: 1; white-space: pre; opacity: 1;\">С 2019-07-08 до 2019-07-14</text></g><g class=\"xtick\"><text text-anchor=\"start\" x=\"0\" y=\"289\" transform=\"translate(500.87,0) rotate(90,0,283)\" style=\"font-family: 'Open Sans', verdana, arial, sans-serif; font-size: 12px; fill: rgb(42, 63, 95); fill-opacity: 1; white-space: pre; opacity: 1;\">С 2019-07-29 до 2019-08-04</text></g><g class=\"xtick\"><text text-anchor=\"start\" x=\"0\" y=\"289\" transform=\"translate(516.45,0) rotate(90,0,283)\" style=\"font-family: 'Open Sans', verdana, arial, sans-serif; font-size: 12px; fill: rgb(42, 63, 95); fill-opacity: 1; white-space: pre; opacity: 1;\">С 2019-08-19 до 2019-08-25</text></g><g class=\"xtick\"><text text-anchor=\"start\" x=\"0\" y=\"289\" transform=\"translate(532.04,0) rotate(90,0,283)\" style=\"font-family: 'Open Sans', verdana, arial, sans-serif; font-size: 12px; fill: rgb(42, 63, 95); fill-opacity: 1; white-space: pre; opacity: 1;\">С 2019-09-09 до 2019-09-15</text></g><g class=\"xtick\"><text text-anchor=\"start\" x=\"0\" y=\"289\" transform=\"translate(547.63,0) rotate(90,0,283)\" style=\"font-family: 'Open Sans', verdana, arial, sans-serif; font-size: 12px; fill: rgb(42, 63, 95); fill-opacity: 1; white-space: pre; opacity: 1;\">С 2019-09-30 до 2019-10-06</text></g><g class=\"xtick\"><text text-anchor=\"start\" x=\"0\" y=\"289\" transform=\"translate(563.22,0) rotate(90,0,283)\" style=\"font-family: 'Open Sans', verdana, arial, sans-serif; font-size: 12px; fill: rgb(42, 63, 95); fill-opacity: 1; white-space: pre; opacity: 1;\">С 2019-10-21 до 2019-10-27</text></g><g class=\"xtick\"><text text-anchor=\"start\" x=\"0\" y=\"289\" transform=\"translate(578.8,0) rotate(90,0,283)\" style=\"font-family: 'Open Sans', verdana, arial, sans-serif; font-size: 12px; fill: rgb(42, 63, 95); fill-opacity: 1; white-space: pre; opacity: 1;\">С 2019-11-11 до 2019-11-17</text></g></g><g class=\"yaxislayer-above\"><g class=\"ytick\"><text text-anchor=\"end\" x=\"79\" y=\"4.199999999999999\" transform=\"translate(0,268.97)\" style=\"font-family: 'Open Sans', verdana, arial, sans-serif; font-size: 12px; fill: rgb(42, 63, 95); fill-opacity: 1; white-space: pre; opacity: 1;\">350k</text></g><g class=\"ytick\"><text text-anchor=\"end\" x=\"79\" y=\"4.199999999999999\" style=\"font-family: 'Open Sans', verdana, arial, sans-serif; font-size: 12px; fill: rgb(42, 63, 95); fill-opacity: 1; white-space: pre; opacity: 1;\" transform=\"translate(0,233.53)\">400k</text></g><g class=\"ytick\"><text text-anchor=\"end\" x=\"79\" y=\"4.199999999999999\" style=\"font-family: 'Open Sans', verdana, arial, sans-serif; font-size: 12px; fill: rgb(42, 63, 95); fill-opacity: 1; white-space: pre; opacity: 1;\" transform=\"translate(0,198.08)\">450k</text></g><g class=\"ytick\"><text text-anchor=\"end\" x=\"79\" y=\"4.199999999999999\" style=\"font-family: 'Open Sans', verdana, arial, sans-serif; font-size: 12px; fill: rgb(42, 63, 95); fill-opacity: 1; white-space: pre; opacity: 1;\" transform=\"translate(0,162.64)\">500k</text></g><g class=\"ytick\"><text text-anchor=\"end\" x=\"79\" y=\"4.199999999999999\" style=\"font-family: 'Open Sans', verdana, arial, sans-serif; font-size: 12px; fill: rgb(42, 63, 95); fill-opacity: 1; white-space: pre; opacity: 1;\" transform=\"translate(0,127.19)\">550k</text></g><g class=\"ytick\"><text text-anchor=\"end\" x=\"79\" y=\"4.199999999999999\" style=\"font-family: 'Open Sans', verdana, arial, sans-serif; font-size: 12px; fill: rgb(42, 63, 95); fill-opacity: 1; white-space: pre; opacity: 1;\" transform=\"translate(0,91.74)\">600k</text></g></g><g class=\"overaxes-above\"/></g></g><g class=\"polarlayer\"/><g class=\"smithlayer\"/><g class=\"ternarylayer\"/><g class=\"geolayer\"/><g class=\"funnelarealayer\"/><g class=\"pielayer\"/><g class=\"iciclelayer\"/><g class=\"treemaplayer\"/><g class=\"sunburstlayer\"/><g class=\"glimages\"/><defs id=\"topdefs-c1ff4a\"><g class=\"clips\"/><clipPath id=\"legendc1ff4a\"><rect width=\"94\" height=\"67\" x=\"0\" y=\"0\"/></clipPath></defs><g class=\"layer-above\"><g class=\"imagelayer\"/><g class=\"shapelayer\"/></g><g class=\"infolayer\"><g class=\"legend\" pointer-events=\"all\" transform=\"translate(594.08,60)\"><rect class=\"bg\" shape-rendering=\"crispEdges\" width=\"94\" height=\"67\" x=\"0\" y=\"0\" style=\"stroke: rgb(68, 68, 68); stroke-opacity: 1; fill: rgb(255, 255, 255); fill-opacity: 1; stroke-width: 0px;\"/><g class=\"scrollbox\" transform=\"\" clip-path=\"url(#legendc1ff4a)\"><text class=\"legendtitletext\" text-anchor=\"start\" x=\"2\" y=\"18.2\" style=\"font-family: 'Open Sans', verdana, arial, sans-serif; font-size: 14px; fill: rgb(42, 63, 95); fill-opacity: 1; white-space: pre;\">Компания</text><g class=\"groups\" transform=\"\"><g class=\"traces\" transform=\"translate(0,32.7)\" style=\"opacity: 1;\"><text class=\"legendtext\" text-anchor=\"start\" x=\"40\" y=\"4.680000000000001\" style=\"font-family: 'Open Sans', verdana, arial, sans-serif; font-size: 12px; fill: rgb(42, 63, 95); fill-opacity: 1; white-space: pre;\">Игрок 1</text><g class=\"layers\" style=\"opacity: 1;\"><g class=\"legendfill\"/><g class=\"legendlines\"><path class=\"js-line\" d=\"M5,0h30\" style=\"fill: none; stroke: rgb(251, 180, 174); stroke-opacity: 1; stroke-width: 2px;\"/></g><g class=\"legendsymbols\"><g class=\"legendpoints\"/></g></g><rect class=\"legendtoggle\" x=\"0\" y=\"-9.5\" width=\"88.75\" height=\"19\" style=\"fill: rgb(0, 0, 0); fill-opacity: 0;\"/></g></g><g class=\"groups\" transform=\"\"><g class=\"traces\" transform=\"translate(0,51.7)\" style=\"opacity: 1;\"><text class=\"legendtext\" text-anchor=\"start\" x=\"40\" y=\"4.680000000000001\" style=\"font-family: 'Open Sans', verdana, arial, sans-serif; font-size: 12px; fill: rgb(42, 63, 95); fill-opacity: 1; white-space: pre;\">Игрок 2</text><g class=\"layers\" style=\"opacity: 1;\"><g class=\"legendfill\"/><g class=\"legendlines\"><path class=\"js-line\" d=\"M5,0h30\" style=\"fill: none; stroke: rgb(179, 205, 227); stroke-opacity: 1; stroke-width: 2px;\"/></g><g class=\"legendsymbols\"><g class=\"legendpoints\"/></g></g><rect class=\"legendtoggle\" x=\"0\" y=\"-9.5\" width=\"88.75\" height=\"19\" style=\"fill: rgb(0, 0, 0); fill-opacity: 0;\"/></g></g></g><rect class=\"scrollbar\" rx=\"20\" ry=\"3\" width=\"0\" height=\"0\" x=\"0\" y=\"0\" style=\"fill: rgb(128, 139, 164); fill-opacity: 1;\"/></g><g class=\"g-gtitle\"><text class=\"gtitle\" x=\"350\" y=\"30\" text-anchor=\"middle\" dy=\"0em\" style=\"font-family: 'Open Sans', verdana, arial, sans-serif; font-size: 17px; fill: rgb(42, 63, 95); opacity: 1; font-weight: normal; white-space: pre;\">Динамика количества объявлений по неделям</text></g><g class=\"g-xtitle\"><text class=\"xtitle\" x=\"332\" y=\"487.815625\" text-anchor=\"middle\" style=\"font-family: 'Open Sans', verdana, arial, sans-serif; font-size: 14px; fill: rgb(42, 63, 95); opacity: 1; font-weight: normal; white-space: pre;\">Неделя</text></g><g class=\"g-ytitle\"><text class=\"ytitle\" transform=\"rotate(-90,24.200000000000003,168)\" x=\"24.200000000000003\" y=\"168\" text-anchor=\"middle\" style=\"font-family: 'Open Sans', verdana, arial, sans-serif; font-size: 14px; fill: rgb(42, 63, 95); opacity: 1; font-weight: normal; white-space: pre;\">Количество контента</text></g></g></svg>"
      ]
     },
     "metadata": {},
     "output_type": "display_data"
    }
   ],
   "source": [
    "# создание таблицы с общим количеством контента по неделям с разбивкой по компаниям \n",
    "df_week = data.groupby(['Неделя', 'Компания'], as_index=False)['Контент'].sum()\n",
    "\n",
    "# построение графика общего количества контента по неделям с разбивкой по компаниям \n",
    "fig = px.line(df_week, x='Неделя', y='Контент', color='Компания', color_discrete_sequence=colors)\n",
    "\n",
    "fig.update_layout(\n",
    "    title='Динамика количества объявлений по неделям',\n",
    "    title_x=0.5,\n",
    "    xaxis_title='Неделя',\n",
    "    yaxis_title='Количество контента',\n",
    ")\n",
    "\n",
    "fig.show()"
   ]
  },
  {
   "cell_type": "markdown",
   "id": "f2e9310c",
   "metadata": {},
   "source": [
    "На графике наблюдается резкое падение количества объявлений у Игрока 1 на неделе с 28.05.2018 по 03.06.2018, с этого периода лидировал Игрок 2, но произошел резкий спад в октябре 2018 года. Также у обеих компаний наблюдается резкое падение в конце декабря 2018 - начале января 2019, что вероятнее всего обусловлено новогодними праздниками. Что касается последних недель, то Игрок 2 идет стабильнее, несмотря на то, что значение количества контента у компании ниже, чем у Игрока 1."
   ]
  },
  {
   "cell_type": "markdown",
   "id": "2a2a48bd",
   "metadata": {},
   "source": [
    "## Общий вывод"
   ]
  },
  {
   "cell_type": "markdown",
   "id": "d87efbda",
   "metadata": {},
   "source": [
    "В ходе исследовательского анализа данных было рассмотрено количество объявлений по регионам, типам сделки, категориям недвижимости, сегментам клиентов, а также в динамике.\n",
    "\n",
    "По результатам выполненной работы можно сделать ряд выводов:\n",
    "\n",
    "- для Игрока 1 характерны не слишком крупные города, наблюдается больше объявлений на аренду недвижимости и за городом по сравнению с Игроком 2, больше всего компания работает с собственниками;\n",
    "- Игрок 2 является лидером в Москве и Санкт-Петербурге, в продаже недвижимости, чаще в городах, среди сегментов клиентов сильнее всего выделяется AH;\n",
    "- что касается динамики, то у обеих компаний на текущий момент (ноябрь 2019) идет падение в количестве контента, но у Игрока 1 значение на порядок выше;\n",
    "\n",
    "Кроме того, для реальной оценки положения компаний на рынке недвижимости необходим более детальный анализ, учитывающий большее количество показателей, характеризующих эффективность их деятельности."
   ]
  }
 ],
 "metadata": {
  "kernelspec": {
   "display_name": "Python 3 (ipykernel)",
   "language": "python",
   "name": "python3"
  },
  "language_info": {
   "codemirror_mode": {
    "name": "ipython",
    "version": 3
   },
   "file_extension": ".py",
   "mimetype": "text/x-python",
   "name": "python",
   "nbconvert_exporter": "python",
   "pygments_lexer": "ipython3",
   "version": "3.9.13"
  },
  "toc": {
   "base_numbering": 1,
   "nav_menu": {},
   "number_sections": true,
   "sideBar": true,
   "skip_h1_title": true,
   "title_cell": "Table of Contents",
   "title_sidebar": "Contents",
   "toc_cell": false,
   "toc_position": {
    "height": "calc(100% - 180px)",
    "left": "10px",
    "top": "150px",
    "width": "257.188px"
   },
   "toc_section_display": true,
   "toc_window_display": true
  }
 },
 "nbformat": 4,
 "nbformat_minor": 5
}
